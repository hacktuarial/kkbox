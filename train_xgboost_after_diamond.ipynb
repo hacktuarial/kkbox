{
 "cells": [
  {
   "cell_type": "markdown",
   "metadata": {},
   "source": [
    "from https://www.kaggle.com/opanichev/xgb-baseline"
   ]
  },
  {
   "cell_type": "code",
   "execution_count": 1,
   "metadata": {},
   "outputs": [
    {
     "name": "stderr",
     "output_type": "stream",
     "text": [
      "/Users/timothysweetser/python/virtualenv/work3/lib/python3.6/site-packages/sklearn/cross_validation.py:41: DeprecationWarning: This module was deprecated in version 0.18 in favor of the model_selection module into which all the refactored classes and functions are moved. Also note that the interface of the new CV iterators are different from that of this module. This module will be removed in 0.20.\n",
      "  \"This module will be removed in 0.20.\", DeprecationWarning)\n"
     ]
    }
   ],
   "source": [
    "import numpy as np\n",
    "import pandas as pd\n",
    "import pickle\n",
    "from collections import Counter\n",
    "\n",
    "from scipy.io import mmread\n",
    "from scipy import sparse\n",
    "from sklearn.preprocessing import LabelEncoder, OneHotEncoder\n",
    "from sklearn.metrics import roc_auc_score\n",
    "\n",
    "from tqdm import tqdm\n",
    "#import xgboost as xgb\n",
    "from xgboost import XGBRegressor # sklearn-style API\n",
    "import utils"
   ]
  },
  {
   "cell_type": "code",
   "execution_count": 2,
   "metadata": {},
   "outputs": [],
   "source": [
    "dfs = {}\n",
    "\n",
    "dfs['train'] = pd.read_csv('data/postdiamond/train_full.csv')\n",
    "dfs['test'] = pd.read_csv('data/postdiamond/test.csv')\n",
    "df_songs = pd.read_csv('data/raw/songs.csv')\n",
    "df_members = pd.read_csv('data/raw/members.csv')\n",
    "song_map = pickle.load(open('data/processed/song_map.p', 'rb'))\n",
    "X_genre = mmread('data/processed/X_genre.mtx') # shape is (n_songs, n_genres)"
   ]
  },
  {
   "cell_type": "markdown",
   "metadata": {},
   "source": [
    "Filter to known songs"
   ]
  },
  {
   "cell_type": "code",
   "execution_count": 3,
   "metadata": {
    "collapsed": true
   },
   "outputs": [],
   "source": [
    "for x in dfs:\n",
    "    dfs[x]['song_id'] = dfs[x]['song_id'].astype(str)\n",
    "    dfs[x] = dfs[x][dfs[x]['song_id'].isin(df_songs['song_id'])]\n",
    "    dfs[x]['song_idx'] = dfs[x]['song_id'].apply(lambda x: song_map[x])"
   ]
  },
  {
   "cell_type": "markdown",
   "metadata": {},
   "source": [
    "# Genres and songs"
   ]
  },
  {
   "cell_type": "code",
   "execution_count": 4,
   "metadata": {},
   "outputs": [
    {
     "data": {
      "text/html": [
       "<div>\n",
       "<style>\n",
       "    .dataframe thead tr:only-child th {\n",
       "        text-align: right;\n",
       "    }\n",
       "\n",
       "    .dataframe thead th {\n",
       "        text-align: left;\n",
       "    }\n",
       "\n",
       "    .dataframe tbody tr th {\n",
       "        vertical-align: top;\n",
       "    }\n",
       "</style>\n",
       "<table border=\"1\" class=\"dataframe\">\n",
       "  <thead>\n",
       "    <tr style=\"text-align: right;\">\n",
       "      <th></th>\n",
       "      <th>song_idx</th>\n",
       "      <th>genre0</th>\n",
       "      <th>genre1</th>\n",
       "      <th>genre2</th>\n",
       "      <th>genre3</th>\n",
       "      <th>genre4</th>\n",
       "      <th>genre5</th>\n",
       "      <th>genre6</th>\n",
       "      <th>genre7</th>\n",
       "      <th>genre8</th>\n",
       "      <th>...</th>\n",
       "      <th>genre182</th>\n",
       "      <th>genre183</th>\n",
       "      <th>genre184</th>\n",
       "      <th>genre185</th>\n",
       "      <th>genre186</th>\n",
       "      <th>genre187</th>\n",
       "      <th>genre188</th>\n",
       "      <th>genre189</th>\n",
       "      <th>genre190</th>\n",
       "      <th>genre191</th>\n",
       "    </tr>\n",
       "  </thead>\n",
       "  <tbody>\n",
       "    <tr>\n",
       "      <th>598141</th>\n",
       "      <td>598141</td>\n",
       "      <td>0.0</td>\n",
       "      <td>0.0</td>\n",
       "      <td>0.0</td>\n",
       "      <td>0.0</td>\n",
       "      <td>0.0</td>\n",
       "      <td>0.0</td>\n",
       "      <td>0.0</td>\n",
       "      <td>0.0</td>\n",
       "      <td>0.0</td>\n",
       "      <td>...</td>\n",
       "      <td>0.0</td>\n",
       "      <td>0.0</td>\n",
       "      <td>0.0</td>\n",
       "      <td>0.0</td>\n",
       "      <td>0.0</td>\n",
       "      <td>0.0</td>\n",
       "      <td>0.0</td>\n",
       "      <td>0.0</td>\n",
       "      <td>0.0</td>\n",
       "      <td>0.0</td>\n",
       "    </tr>\n",
       "    <tr>\n",
       "      <th>519512</th>\n",
       "      <td>519512</td>\n",
       "      <td>0.0</td>\n",
       "      <td>0.0</td>\n",
       "      <td>0.0</td>\n",
       "      <td>0.0</td>\n",
       "      <td>0.0</td>\n",
       "      <td>0.0</td>\n",
       "      <td>0.0</td>\n",
       "      <td>0.0</td>\n",
       "      <td>0.0</td>\n",
       "      <td>...</td>\n",
       "      <td>0.0</td>\n",
       "      <td>0.0</td>\n",
       "      <td>0.0</td>\n",
       "      <td>0.0</td>\n",
       "      <td>0.0</td>\n",
       "      <td>0.0</td>\n",
       "      <td>0.0</td>\n",
       "      <td>0.0</td>\n",
       "      <td>0.0</td>\n",
       "      <td>0.0</td>\n",
       "    </tr>\n",
       "    <tr>\n",
       "      <th>116579</th>\n",
       "      <td>116579</td>\n",
       "      <td>0.0</td>\n",
       "      <td>0.0</td>\n",
       "      <td>0.0</td>\n",
       "      <td>0.0</td>\n",
       "      <td>0.0</td>\n",
       "      <td>0.0</td>\n",
       "      <td>0.0</td>\n",
       "      <td>0.0</td>\n",
       "      <td>0.0</td>\n",
       "      <td>...</td>\n",
       "      <td>0.0</td>\n",
       "      <td>0.0</td>\n",
       "      <td>0.0</td>\n",
       "      <td>0.0</td>\n",
       "      <td>0.0</td>\n",
       "      <td>0.0</td>\n",
       "      <td>0.0</td>\n",
       "      <td>0.0</td>\n",
       "      <td>0.0</td>\n",
       "      <td>0.0</td>\n",
       "    </tr>\n",
       "  </tbody>\n",
       "</table>\n",
       "<p>3 rows × 193 columns</p>\n",
       "</div>"
      ],
      "text/plain": [
       "        song_idx  genre0  genre1  genre2  genre3  genre4  genre5  genre6  \\\n",
       "598141    598141     0.0     0.0     0.0     0.0     0.0     0.0     0.0   \n",
       "519512    519512     0.0     0.0     0.0     0.0     0.0     0.0     0.0   \n",
       "116579    116579     0.0     0.0     0.0     0.0     0.0     0.0     0.0   \n",
       "\n",
       "        genre7  genre8    ...     genre182  genre183  genre184  genre185  \\\n",
       "598141     0.0     0.0    ...          0.0       0.0       0.0       0.0   \n",
       "519512     0.0     0.0    ...          0.0       0.0       0.0       0.0   \n",
       "116579     0.0     0.0    ...          0.0       0.0       0.0       0.0   \n",
       "\n",
       "        genre186  genre187  genre188  genre189  genre190  genre191  \n",
       "598141       0.0       0.0       0.0       0.0       0.0       0.0  \n",
       "519512       0.0       0.0       0.0       0.0       0.0       0.0  \n",
       "116579       0.0       0.0       0.0       0.0       0.0       0.0  \n",
       "\n",
       "[3 rows x 193 columns]"
      ]
     },
     "execution_count": 4,
     "metadata": {},
     "output_type": "execute_result"
    }
   ],
   "source": [
    "df_genres = pd.DataFrame(X_genre.todense())\n",
    "old_names = range(df_genres.shape[1])\n",
    "new_names = ['genre%d' % x for x in old_names]\n",
    "df_genres.rename(columns=dict(zip(old_names, new_names)), inplace=True)\n",
    "df_genres.reset_index(inplace=True)\n",
    "df_genres.rename(columns={'index': 'song_idx'}, inplace=True)\n",
    "df_genres.sample(n=3)"
   ]
  },
  {
   "cell_type": "code",
   "execution_count": null,
   "metadata": {
    "collapsed": true
   },
   "outputs": [],
   "source": [
    "genres = {}\n",
    "for x in "
   ]
  },
  {
   "cell_type": "code",
   "execution_count": 8,
   "metadata": {},
   "outputs": [
    {
     "data": {
      "text/plain": [
       "<2x192 sparse matrix of type '<class 'numpy.float64'>'\n",
       "\twith 2 stored elements in Compressed Sparse Row format>"
      ]
     },
     "execution_count": 8,
     "metadata": {},
     "output_type": "execute_result"
    }
   ],
   "source": [
    "sparse.csr_matrix(X_genre.todense()[[598141, 519512], :])"
   ]
  },
  {
   "cell_type": "code",
   "execution_count": 5,
   "metadata": {
    "collapsed": true
   },
   "outputs": [],
   "source": [
    "for x in dfs:\n",
    "    dfs[x] = pd.merge(dfs[x], df_genres, how='left', on='song_idx')"
   ]
  },
  {
   "cell_type": "code",
   "execution_count": 6,
   "metadata": {
    "collapsed": true
   },
   "outputs": [],
   "source": [
    "del X_genre, df_genres"
   ]
  },
  {
   "cell_type": "markdown",
   "metadata": {},
   "source": [
    "Add song features"
   ]
  },
  {
   "cell_type": "code",
   "execution_count": 7,
   "metadata": {},
   "outputs": [
    {
     "data": {
      "text/html": [
       "<div>\n",
       "<style>\n",
       "    .dataframe thead tr:only-child th {\n",
       "        text-align: right;\n",
       "    }\n",
       "\n",
       "    .dataframe thead th {\n",
       "        text-align: left;\n",
       "    }\n",
       "\n",
       "    .dataframe tbody tr th {\n",
       "        vertical-align: top;\n",
       "    }\n",
       "</style>\n",
       "<table border=\"1\" class=\"dataframe\">\n",
       "  <thead>\n",
       "    <tr style=\"text-align: right;\">\n",
       "      <th></th>\n",
       "      <th>song_id</th>\n",
       "      <th>song_length</th>\n",
       "      <th>genre_ids</th>\n",
       "      <th>artist_name</th>\n",
       "      <th>composer</th>\n",
       "      <th>lyricist</th>\n",
       "      <th>language</th>\n",
       "    </tr>\n",
       "  </thead>\n",
       "  <tbody>\n",
       "    <tr>\n",
       "      <th>734012</th>\n",
       "      <td>tuutCvYaSKBeBBz80qy0uGgohnRkwlEEXZTYJC7hWQs=</td>\n",
       "      <td>287834</td>\n",
       "      <td>1609</td>\n",
       "      <td>James Grant &amp; Jody Wisternoff</td>\n",
       "      <td>NaN</td>\n",
       "      <td>NaN</td>\n",
       "      <td>52.0</td>\n",
       "    </tr>\n",
       "    <tr>\n",
       "      <th>1292145</th>\n",
       "      <td>oiXX5XOD0zjcXMdXiDlAdX3vLflYSmdUXZoc133TrPE=</td>\n",
       "      <td>201734</td>\n",
       "      <td>465</td>\n",
       "      <td>Tim Be Told</td>\n",
       "      <td>Timothy Ouyang</td>\n",
       "      <td>NaN</td>\n",
       "      <td>52.0</td>\n",
       "    </tr>\n",
       "    <tr>\n",
       "      <th>50939</th>\n",
       "      <td>OkuUwIeDyoxHQIJkC8AFHLjh+uUdV38V+/93PB8tMSA=</td>\n",
       "      <td>307571</td>\n",
       "      <td>465</td>\n",
       "      <td>張衛健 (Dicky Cheung)</td>\n",
       "      <td>Peter Lai</td>\n",
       "      <td>Poon Wai Yuen</td>\n",
       "      <td>24.0</td>\n",
       "    </tr>\n",
       "  </tbody>\n",
       "</table>\n",
       "</div>"
      ],
      "text/plain": [
       "                                              song_id  song_length genre_ids  \\\n",
       "734012   tuutCvYaSKBeBBz80qy0uGgohnRkwlEEXZTYJC7hWQs=       287834      1609   \n",
       "1292145  oiXX5XOD0zjcXMdXiDlAdX3vLflYSmdUXZoc133TrPE=       201734       465   \n",
       "50939    OkuUwIeDyoxHQIJkC8AFHLjh+uUdV38V+/93PB8tMSA=       307571       465   \n",
       "\n",
       "                           artist_name        composer       lyricist  \\\n",
       "734012   James Grant & Jody Wisternoff             NaN            NaN   \n",
       "1292145                    Tim Be Told  Timothy Ouyang            NaN   \n",
       "50939               張衛健 (Dicky Cheung)       Peter Lai  Poon Wai Yuen   \n",
       "\n",
       "         language  \n",
       "734012       52.0  \n",
       "1292145      52.0  \n",
       "50939        24.0  "
      ]
     },
     "execution_count": 7,
     "metadata": {},
     "output_type": "execute_result"
    }
   ],
   "source": [
    "df_songs.sample(n=3)"
   ]
  },
  {
   "cell_type": "code",
   "execution_count": 8,
   "metadata": {
    "collapsed": true
   },
   "outputs": [],
   "source": [
    "df_songs['language'] = df_songs['language'].astype(str)\n",
    "song_features = ['song_id', 'song_length', 'artist_name', 'composer', 'lyricist', 'language']\n",
    "for x in dfs:\n",
    "    dfs[x] = pd.merge(dfs[x], df_songs[song_features], how='left', on='song_id')"
   ]
  },
  {
   "cell_type": "code",
   "execution_count": 9,
   "metadata": {
    "collapsed": true
   },
   "outputs": [],
   "source": [
    "del df_songs"
   ]
  },
  {
   "cell_type": "markdown",
   "metadata": {},
   "source": [
    "# Members"
   ]
  },
  {
   "cell_type": "code",
   "execution_count": 10,
   "metadata": {},
   "outputs": [
    {
     "data": {
      "text/html": [
       "<div>\n",
       "<style>\n",
       "    .dataframe thead tr:only-child th {\n",
       "        text-align: right;\n",
       "    }\n",
       "\n",
       "    .dataframe thead th {\n",
       "        text-align: left;\n",
       "    }\n",
       "\n",
       "    .dataframe tbody tr th {\n",
       "        vertical-align: top;\n",
       "    }\n",
       "</style>\n",
       "<table border=\"1\" class=\"dataframe\">\n",
       "  <thead>\n",
       "    <tr style=\"text-align: right;\">\n",
       "      <th></th>\n",
       "      <th>msno</th>\n",
       "      <th>city</th>\n",
       "      <th>bd</th>\n",
       "      <th>gender</th>\n",
       "      <th>registered_via</th>\n",
       "      <th>registration_init_time</th>\n",
       "      <th>expiration_date</th>\n",
       "    </tr>\n",
       "  </thead>\n",
       "  <tbody>\n",
       "    <tr>\n",
       "      <th>30461</th>\n",
       "      <td>E9285C+V22kokpkOauwK02uzWGRMWCnzBG3xVE4YhgU=</td>\n",
       "      <td>1</td>\n",
       "      <td>0</td>\n",
       "      <td>NaN</td>\n",
       "      <td>3</td>\n",
       "      <td>20130123</td>\n",
       "      <td>20130206</td>\n",
       "    </tr>\n",
       "    <tr>\n",
       "      <th>22403</th>\n",
       "      <td>2SE2+gpMhsI8VdSEcDj5g+JRFhr+RPmCQ5wi00stzIw=</td>\n",
       "      <td>22</td>\n",
       "      <td>23</td>\n",
       "      <td>NaN</td>\n",
       "      <td>3</td>\n",
       "      <td>20140427</td>\n",
       "      <td>20170920</td>\n",
       "    </tr>\n",
       "    <tr>\n",
       "      <th>25918</th>\n",
       "      <td>5Fbbr04b/KbERvpAc5gnNqF6wBy7WxnIcOMT53m8A0g=</td>\n",
       "      <td>18</td>\n",
       "      <td>22</td>\n",
       "      <td>male</td>\n",
       "      <td>7</td>\n",
       "      <td>20130831</td>\n",
       "      <td>20171002</td>\n",
       "    </tr>\n",
       "  </tbody>\n",
       "</table>\n",
       "</div>"
      ],
      "text/plain": [
       "                                               msno  city  bd gender  \\\n",
       "30461  E9285C+V22kokpkOauwK02uzWGRMWCnzBG3xVE4YhgU=     1   0    NaN   \n",
       "22403  2SE2+gpMhsI8VdSEcDj5g+JRFhr+RPmCQ5wi00stzIw=    22  23    NaN   \n",
       "25918  5Fbbr04b/KbERvpAc5gnNqF6wBy7WxnIcOMT53m8A0g=    18  22   male   \n",
       "\n",
       "       registered_via  registration_init_time  expiration_date  \n",
       "30461               3                20130123         20130206  \n",
       "22403               3                20140427         20170920  \n",
       "25918               7                20130831         20171002  "
      ]
     },
     "execution_count": 10,
     "metadata": {},
     "output_type": "execute_result"
    }
   ],
   "source": [
    "df_members.sample(n=3)"
   ]
  },
  {
   "cell_type": "code",
   "execution_count": 11,
   "metadata": {
    "collapsed": true
   },
   "outputs": [],
   "source": [
    "# Preprocess members data\n",
    "for x in ['registration_init_time', 'expiration_date']:\n",
    "    df_members[x] = df_members[x].astype(int)\n",
    "df_members['registered_via'] = df_members['registered_via'].astype(str)\n",
    "\n",
    "for x in dfs:\n",
    "    dfs[x] = pd.merge(dfs[x], df_members, on='msno', how='left')"
   ]
  },
  {
   "cell_type": "code",
   "execution_count": 12,
   "metadata": {
    "collapsed": true
   },
   "outputs": [],
   "source": [
    "del df_members"
   ]
  },
  {
   "cell_type": "markdown",
   "metadata": {},
   "source": [
    "# Preprocess df_train, df_test\n",
    "\n",
    "* tqdm is a decorator on an iterator that adds a progress bar\n",
    "* Label encoder seems like the wrong thing here: xgb will treat it as an int!"
   ]
  },
  {
   "cell_type": "code",
   "execution_count": 19,
   "metadata": {},
   "outputs": [
    {
     "data": {
      "text/plain": [
       "Unnamed: 0                      0\n",
       "msno                            0\n",
       "song_id                         0\n",
       "source_system_tab           12767\n",
       "source_screen_name         260863\n",
       "source_type                 14299\n",
       "target                          0\n",
       "role                            0\n",
       "row_index                       0\n",
       "intercept                       0\n",
       "diamond_prediction              0\n",
       "song_idx                        0\n",
       "song_length                     0\n",
       "artist_name                     0\n",
       "composer                  1106799\n",
       "lyricist                  2096641\n",
       "language                        0\n",
       "city                            0\n",
       "bd                              0\n",
       "gender                    1949868\n",
       "registered_via                  0\n",
       "registration_init_time          0\n",
       "expiration_date                 0\n",
       "dtype: int64"
      ]
     },
     "execution_count": 19,
     "metadata": {},
     "output_type": "execute_result"
    }
   ],
   "source": [
    "dfs['train'][[c for c in dfs['train'].columns if 'genre' not in c]].isnull().sum()"
   ]
  },
  {
   "cell_type": "code",
   "execution_count": 20,
   "metadata": {},
   "outputs": [
    {
     "data": {
      "text/plain": [
       "['msno',\n",
       " 'song_id',\n",
       " 'source_system_tab',\n",
       " 'source_screen_name',\n",
       " 'source_type',\n",
       " 'role',\n",
       " 'artist_name',\n",
       " 'composer',\n",
       " 'lyricist',\n",
       " 'language',\n",
       " 'gender',\n",
       " 'registered_via']"
      ]
     },
     "execution_count": 20,
     "metadata": {},
     "output_type": "execute_result"
    }
   ],
   "source": [
    "[c for c, d in zip(dfs['train'].columns, dfs['train'].dtypes) \\\n",
    " if d == 'object']"
   ]
  },
  {
   "cell_type": "code",
   "execution_count": 21,
   "metadata": {},
   "outputs": [
    {
     "name": "stdout",
     "output_type": "stream",
     "text": [
      "['registered_via', 'lyricist', 'source_system_tab', 'source_type', 'source_screen_name', 'language', 'composer', 'artist_name', 'gender']\n"
     ]
    }
   ],
   "source": [
    "# Preprocess dataset\n",
    "for x in ['source_system_tab', 'source_screen_name', 'source_type']:\n",
    "    for tt in dfs:\n",
    "        dfs[tt][x] = dfs[tt][x].astype(str)\n",
    "\n",
    "cols_to_drop = ['target', 'msno', 'song_id', 'song_idx', 'role',\n",
    "                'Unnamed: 0', 'diamond_prediction', 'intercept', 'row_index']\n",
    "cols = set(list(dfs['train'].columns)) - set(cols_to_drop)\n",
    "cols = list(cols)\n",
    "print([c for c in cols if\n",
    "      dfs['train'].dtypes[c] == 'object'])"
   ]
  },
  {
   "cell_type": "code",
   "execution_count": 22,
   "metadata": {},
   "outputs": [
    {
     "name": "stdout",
     "output_type": "stream",
     "text": [
      "building label encoder for `registered_via`\n",
      "building label encoder for `lyricist`\n",
      "building label encoder for `source_system_tab`\n",
      "building label encoder for `source_type`\n",
      "building label encoder for `source_screen_name`\n",
      "building label encoder for `language`\n",
      "building label encoder for `composer`\n",
      "building label encoder for `artist_name`\n",
      "building label encoder for `gender`\n"
     ]
    }
   ],
   "source": [
    "for col in cols:\n",
    "    if dfs['train'][col].dtype == 'object':\n",
    "        print('building label encoder for `%s`' % col)\n",
    "        le = LabelEncoder()\n",
    "        unique_values = set()\n",
    "        for x in dfs:\n",
    "            dfs[x][col] = dfs[x][col].apply(str)\n",
    "            unique_values = unique_values.union(set(dfs[x][col].unique()))\n",
    "        le.fit(list(unique_values))\n",
    "        for x in dfs:\n",
    "            dfs[x][col] = le.transform(dfs[x][col])"
   ]
  },
  {
   "cell_type": "code",
   "execution_count": 23,
   "metadata": {},
   "outputs": [
    {
     "data": {
      "text/plain": [
       "[('Unnamed: 0', dtype('int64')),\n",
       " ('msno', dtype('O')),\n",
       " ('song_id', dtype('O')),\n",
       " ('source_system_tab', dtype('int64')),\n",
       " ('source_screen_name', dtype('int64')),\n",
       " ('source_type', dtype('int64')),\n",
       " ('target', dtype('int64')),\n",
       " ('role', dtype('O')),\n",
       " ('row_index', dtype('int64')),\n",
       " ('intercept', dtype('float64')),\n",
       " ('diamond_prediction', dtype('float64')),\n",
       " ('song_idx', dtype('int64')),\n",
       " ('song_length', dtype('int64')),\n",
       " ('artist_name', dtype('int64')),\n",
       " ('composer', dtype('int64')),\n",
       " ('lyricist', dtype('int64')),\n",
       " ('language', dtype('int64')),\n",
       " ('city', dtype('int64')),\n",
       " ('bd', dtype('int64')),\n",
       " ('gender', dtype('int64')),\n",
       " ('registered_via', dtype('int64')),\n",
       " ('registration_init_time', dtype('int64')),\n",
       " ('expiration_date', dtype('int64'))]"
      ]
     },
     "execution_count": 23,
     "metadata": {},
     "output_type": "execute_result"
    }
   ],
   "source": [
    "[(c, d) for c, d in zip(dfs['train'].columns, dfs['train'].dtypes) \\\n",
    " if 'genre' not in c]"
   ]
  },
  {
   "cell_type": "code",
   "execution_count": 27,
   "metadata": {},
   "outputs": [
    {
     "data": {
      "text/html": [
       "<div>\n",
       "<style>\n",
       "    .dataframe thead tr:only-child th {\n",
       "        text-align: right;\n",
       "    }\n",
       "\n",
       "    .dataframe thead th {\n",
       "        text-align: left;\n",
       "    }\n",
       "\n",
       "    .dataframe tbody tr th {\n",
       "        vertical-align: top;\n",
       "    }\n",
       "</style>\n",
       "<table border=\"1\" class=\"dataframe\">\n",
       "  <thead>\n",
       "    <tr style=\"text-align: right;\">\n",
       "      <th></th>\n",
       "      <th>2474408</th>\n",
       "      <th>536259</th>\n",
       "      <th>870492</th>\n",
       "    </tr>\n",
       "  </thead>\n",
       "  <tbody>\n",
       "    <tr>\n",
       "      <th>source_system_tab</th>\n",
       "      <td>0.0</td>\n",
       "      <td>3.0</td>\n",
       "      <td>3.0</td>\n",
       "    </tr>\n",
       "    <tr>\n",
       "      <th>source_screen_name</th>\n",
       "      <td>5.0</td>\n",
       "      <td>8.0</td>\n",
       "      <td>8.0</td>\n",
       "    </tr>\n",
       "    <tr>\n",
       "      <th>source_type</th>\n",
       "      <td>0.0</td>\n",
       "      <td>3.0</td>\n",
       "      <td>3.0</td>\n",
       "    </tr>\n",
       "    <tr>\n",
       "      <th>genre0</th>\n",
       "      <td>0.0</td>\n",
       "      <td>0.0</td>\n",
       "      <td>0.0</td>\n",
       "    </tr>\n",
       "    <tr>\n",
       "      <th>genre1</th>\n",
       "      <td>0.0</td>\n",
       "      <td>0.0</td>\n",
       "      <td>0.0</td>\n",
       "    </tr>\n",
       "    <tr>\n",
       "      <th>genre2</th>\n",
       "      <td>0.0</td>\n",
       "      <td>0.0</td>\n",
       "      <td>0.0</td>\n",
       "    </tr>\n",
       "    <tr>\n",
       "      <th>genre3</th>\n",
       "      <td>0.0</td>\n",
       "      <td>0.0</td>\n",
       "      <td>0.0</td>\n",
       "    </tr>\n",
       "    <tr>\n",
       "      <th>genre4</th>\n",
       "      <td>0.0</td>\n",
       "      <td>0.0</td>\n",
       "      <td>0.0</td>\n",
       "    </tr>\n",
       "    <tr>\n",
       "      <th>genre5</th>\n",
       "      <td>0.0</td>\n",
       "      <td>0.0</td>\n",
       "      <td>0.0</td>\n",
       "    </tr>\n",
       "    <tr>\n",
       "      <th>genre6</th>\n",
       "      <td>0.0</td>\n",
       "      <td>0.0</td>\n",
       "      <td>0.0</td>\n",
       "    </tr>\n",
       "    <tr>\n",
       "      <th>genre7</th>\n",
       "      <td>0.0</td>\n",
       "      <td>0.0</td>\n",
       "      <td>0.0</td>\n",
       "    </tr>\n",
       "    <tr>\n",
       "      <th>genre8</th>\n",
       "      <td>0.0</td>\n",
       "      <td>0.0</td>\n",
       "      <td>0.0</td>\n",
       "    </tr>\n",
       "    <tr>\n",
       "      <th>genre9</th>\n",
       "      <td>0.0</td>\n",
       "      <td>0.0</td>\n",
       "      <td>0.0</td>\n",
       "    </tr>\n",
       "    <tr>\n",
       "      <th>genre10</th>\n",
       "      <td>0.0</td>\n",
       "      <td>0.0</td>\n",
       "      <td>0.0</td>\n",
       "    </tr>\n",
       "    <tr>\n",
       "      <th>genre11</th>\n",
       "      <td>0.0</td>\n",
       "      <td>0.0</td>\n",
       "      <td>0.0</td>\n",
       "    </tr>\n",
       "    <tr>\n",
       "      <th>genre12</th>\n",
       "      <td>0.0</td>\n",
       "      <td>0.0</td>\n",
       "      <td>0.0</td>\n",
       "    </tr>\n",
       "    <tr>\n",
       "      <th>genre13</th>\n",
       "      <td>0.0</td>\n",
       "      <td>0.0</td>\n",
       "      <td>0.0</td>\n",
       "    </tr>\n",
       "    <tr>\n",
       "      <th>genre14</th>\n",
       "      <td>0.0</td>\n",
       "      <td>0.0</td>\n",
       "      <td>0.0</td>\n",
       "    </tr>\n",
       "    <tr>\n",
       "      <th>genre15</th>\n",
       "      <td>0.0</td>\n",
       "      <td>0.0</td>\n",
       "      <td>0.0</td>\n",
       "    </tr>\n",
       "    <tr>\n",
       "      <th>genre16</th>\n",
       "      <td>0.0</td>\n",
       "      <td>0.0</td>\n",
       "      <td>0.0</td>\n",
       "    </tr>\n",
       "    <tr>\n",
       "      <th>genre17</th>\n",
       "      <td>0.0</td>\n",
       "      <td>0.0</td>\n",
       "      <td>0.0</td>\n",
       "    </tr>\n",
       "    <tr>\n",
       "      <th>genre18</th>\n",
       "      <td>0.0</td>\n",
       "      <td>0.0</td>\n",
       "      <td>0.0</td>\n",
       "    </tr>\n",
       "    <tr>\n",
       "      <th>genre19</th>\n",
       "      <td>0.0</td>\n",
       "      <td>0.0</td>\n",
       "      <td>0.0</td>\n",
       "    </tr>\n",
       "    <tr>\n",
       "      <th>genre20</th>\n",
       "      <td>0.0</td>\n",
       "      <td>0.0</td>\n",
       "      <td>0.0</td>\n",
       "    </tr>\n",
       "    <tr>\n",
       "      <th>genre21</th>\n",
       "      <td>0.0</td>\n",
       "      <td>0.0</td>\n",
       "      <td>0.0</td>\n",
       "    </tr>\n",
       "    <tr>\n",
       "      <th>genre22</th>\n",
       "      <td>0.0</td>\n",
       "      <td>0.0</td>\n",
       "      <td>0.0</td>\n",
       "    </tr>\n",
       "    <tr>\n",
       "      <th>genre23</th>\n",
       "      <td>0.0</td>\n",
       "      <td>0.0</td>\n",
       "      <td>0.0</td>\n",
       "    </tr>\n",
       "    <tr>\n",
       "      <th>genre24</th>\n",
       "      <td>0.0</td>\n",
       "      <td>0.0</td>\n",
       "      <td>0.0</td>\n",
       "    </tr>\n",
       "    <tr>\n",
       "      <th>genre25</th>\n",
       "      <td>0.0</td>\n",
       "      <td>0.0</td>\n",
       "      <td>0.0</td>\n",
       "    </tr>\n",
       "    <tr>\n",
       "      <th>genre26</th>\n",
       "      <td>0.0</td>\n",
       "      <td>0.0</td>\n",
       "      <td>0.0</td>\n",
       "    </tr>\n",
       "    <tr>\n",
       "      <th>...</th>\n",
       "      <td>...</td>\n",
       "      <td>...</td>\n",
       "      <td>...</td>\n",
       "    </tr>\n",
       "    <tr>\n",
       "      <th>genre173</th>\n",
       "      <td>0.0</td>\n",
       "      <td>0.0</td>\n",
       "      <td>0.0</td>\n",
       "    </tr>\n",
       "    <tr>\n",
       "      <th>genre174</th>\n",
       "      <td>0.0</td>\n",
       "      <td>0.0</td>\n",
       "      <td>0.0</td>\n",
       "    </tr>\n",
       "    <tr>\n",
       "      <th>genre175</th>\n",
       "      <td>0.0</td>\n",
       "      <td>0.0</td>\n",
       "      <td>0.0</td>\n",
       "    </tr>\n",
       "    <tr>\n",
       "      <th>genre176</th>\n",
       "      <td>0.0</td>\n",
       "      <td>0.0</td>\n",
       "      <td>0.0</td>\n",
       "    </tr>\n",
       "    <tr>\n",
       "      <th>genre177</th>\n",
       "      <td>0.0</td>\n",
       "      <td>0.0</td>\n",
       "      <td>0.0</td>\n",
       "    </tr>\n",
       "    <tr>\n",
       "      <th>genre178</th>\n",
       "      <td>0.0</td>\n",
       "      <td>0.0</td>\n",
       "      <td>0.0</td>\n",
       "    </tr>\n",
       "    <tr>\n",
       "      <th>genre179</th>\n",
       "      <td>0.0</td>\n",
       "      <td>0.0</td>\n",
       "      <td>0.0</td>\n",
       "    </tr>\n",
       "    <tr>\n",
       "      <th>genre180</th>\n",
       "      <td>0.0</td>\n",
       "      <td>0.0</td>\n",
       "      <td>0.0</td>\n",
       "    </tr>\n",
       "    <tr>\n",
       "      <th>genre181</th>\n",
       "      <td>0.0</td>\n",
       "      <td>0.0</td>\n",
       "      <td>0.0</td>\n",
       "    </tr>\n",
       "    <tr>\n",
       "      <th>genre182</th>\n",
       "      <td>0.0</td>\n",
       "      <td>0.0</td>\n",
       "      <td>0.0</td>\n",
       "    </tr>\n",
       "    <tr>\n",
       "      <th>genre183</th>\n",
       "      <td>0.0</td>\n",
       "      <td>0.0</td>\n",
       "      <td>0.0</td>\n",
       "    </tr>\n",
       "    <tr>\n",
       "      <th>genre184</th>\n",
       "      <td>0.0</td>\n",
       "      <td>0.0</td>\n",
       "      <td>0.0</td>\n",
       "    </tr>\n",
       "    <tr>\n",
       "      <th>genre185</th>\n",
       "      <td>0.0</td>\n",
       "      <td>0.0</td>\n",
       "      <td>0.0</td>\n",
       "    </tr>\n",
       "    <tr>\n",
       "      <th>genre186</th>\n",
       "      <td>0.0</td>\n",
       "      <td>0.0</td>\n",
       "      <td>0.0</td>\n",
       "    </tr>\n",
       "    <tr>\n",
       "      <th>genre187</th>\n",
       "      <td>0.0</td>\n",
       "      <td>0.0</td>\n",
       "      <td>0.0</td>\n",
       "    </tr>\n",
       "    <tr>\n",
       "      <th>genre188</th>\n",
       "      <td>0.0</td>\n",
       "      <td>0.0</td>\n",
       "      <td>0.0</td>\n",
       "    </tr>\n",
       "    <tr>\n",
       "      <th>genre189</th>\n",
       "      <td>0.0</td>\n",
       "      <td>0.0</td>\n",
       "      <td>0.0</td>\n",
       "    </tr>\n",
       "    <tr>\n",
       "      <th>genre190</th>\n",
       "      <td>0.0</td>\n",
       "      <td>0.0</td>\n",
       "      <td>0.0</td>\n",
       "    </tr>\n",
       "    <tr>\n",
       "      <th>genre191</th>\n",
       "      <td>0.0</td>\n",
       "      <td>0.0</td>\n",
       "      <td>0.0</td>\n",
       "    </tr>\n",
       "    <tr>\n",
       "      <th>song_length</th>\n",
       "      <td>183716.0</td>\n",
       "      <td>261642.0</td>\n",
       "      <td>303717.0</td>\n",
       "    </tr>\n",
       "    <tr>\n",
       "      <th>artist_name</th>\n",
       "      <td>36867.0</td>\n",
       "      <td>44908.0</td>\n",
       "      <td>40056.0</td>\n",
       "    </tr>\n",
       "    <tr>\n",
       "      <th>composer</th>\n",
       "      <td>45569.0</td>\n",
       "      <td>55576.0</td>\n",
       "      <td>79070.0</td>\n",
       "    </tr>\n",
       "    <tr>\n",
       "      <th>lyricist</th>\n",
       "      <td>26025.0</td>\n",
       "      <td>9522.0</td>\n",
       "      <td>27908.0</td>\n",
       "    </tr>\n",
       "    <tr>\n",
       "      <th>language</th>\n",
       "      <td>8.0</td>\n",
       "      <td>4.0</td>\n",
       "      <td>4.0</td>\n",
       "    </tr>\n",
       "    <tr>\n",
       "      <th>city</th>\n",
       "      <td>22.0</td>\n",
       "      <td>13.0</td>\n",
       "      <td>3.0</td>\n",
       "    </tr>\n",
       "    <tr>\n",
       "      <th>bd</th>\n",
       "      <td>31.0</td>\n",
       "      <td>28.0</td>\n",
       "      <td>43.0</td>\n",
       "    </tr>\n",
       "    <tr>\n",
       "      <th>gender</th>\n",
       "      <td>0.0</td>\n",
       "      <td>0.0</td>\n",
       "      <td>0.0</td>\n",
       "    </tr>\n",
       "    <tr>\n",
       "      <th>registered_via</th>\n",
       "      <td>2.0</td>\n",
       "      <td>5.0</td>\n",
       "      <td>5.0</td>\n",
       "    </tr>\n",
       "    <tr>\n",
       "      <th>registration_init_time</th>\n",
       "      <td>20150902.0</td>\n",
       "      <td>20070919.0</td>\n",
       "      <td>20060511.0</td>\n",
       "    </tr>\n",
       "    <tr>\n",
       "      <th>expiration_date</th>\n",
       "      <td>20170915.0</td>\n",
       "      <td>20171014.0</td>\n",
       "      <td>20170930.0</td>\n",
       "    </tr>\n",
       "  </tbody>\n",
       "</table>\n",
       "<p>206 rows × 3 columns</p>\n",
       "</div>"
      ],
      "text/plain": [
       "                           2474408     536259      870492 \n",
       "source_system_tab              0.0         3.0         3.0\n",
       "source_screen_name             5.0         8.0         8.0\n",
       "source_type                    0.0         3.0         3.0\n",
       "genre0                         0.0         0.0         0.0\n",
       "genre1                         0.0         0.0         0.0\n",
       "genre2                         0.0         0.0         0.0\n",
       "genre3                         0.0         0.0         0.0\n",
       "genre4                         0.0         0.0         0.0\n",
       "genre5                         0.0         0.0         0.0\n",
       "genre6                         0.0         0.0         0.0\n",
       "genre7                         0.0         0.0         0.0\n",
       "genre8                         0.0         0.0         0.0\n",
       "genre9                         0.0         0.0         0.0\n",
       "genre10                        0.0         0.0         0.0\n",
       "genre11                        0.0         0.0         0.0\n",
       "genre12                        0.0         0.0         0.0\n",
       "genre13                        0.0         0.0         0.0\n",
       "genre14                        0.0         0.0         0.0\n",
       "genre15                        0.0         0.0         0.0\n",
       "genre16                        0.0         0.0         0.0\n",
       "genre17                        0.0         0.0         0.0\n",
       "genre18                        0.0         0.0         0.0\n",
       "genre19                        0.0         0.0         0.0\n",
       "genre20                        0.0         0.0         0.0\n",
       "genre21                        0.0         0.0         0.0\n",
       "genre22                        0.0         0.0         0.0\n",
       "genre23                        0.0         0.0         0.0\n",
       "genre24                        0.0         0.0         0.0\n",
       "genre25                        0.0         0.0         0.0\n",
       "genre26                        0.0         0.0         0.0\n",
       "...                            ...         ...         ...\n",
       "genre173                       0.0         0.0         0.0\n",
       "genre174                       0.0         0.0         0.0\n",
       "genre175                       0.0         0.0         0.0\n",
       "genre176                       0.0         0.0         0.0\n",
       "genre177                       0.0         0.0         0.0\n",
       "genre178                       0.0         0.0         0.0\n",
       "genre179                       0.0         0.0         0.0\n",
       "genre180                       0.0         0.0         0.0\n",
       "genre181                       0.0         0.0         0.0\n",
       "genre182                       0.0         0.0         0.0\n",
       "genre183                       0.0         0.0         0.0\n",
       "genre184                       0.0         0.0         0.0\n",
       "genre185                       0.0         0.0         0.0\n",
       "genre186                       0.0         0.0         0.0\n",
       "genre187                       0.0         0.0         0.0\n",
       "genre188                       0.0         0.0         0.0\n",
       "genre189                       0.0         0.0         0.0\n",
       "genre190                       0.0         0.0         0.0\n",
       "genre191                       0.0         0.0         0.0\n",
       "song_length               183716.0    261642.0    303717.0\n",
       "artist_name                36867.0     44908.0     40056.0\n",
       "composer                   45569.0     55576.0     79070.0\n",
       "lyricist                   26025.0      9522.0     27908.0\n",
       "language                       8.0         4.0         4.0\n",
       "city                          22.0        13.0         3.0\n",
       "bd                            31.0        28.0        43.0\n",
       "gender                         0.0         0.0         0.0\n",
       "registered_via                 2.0         5.0         5.0\n",
       "registration_init_time  20150902.0  20070919.0  20060511.0\n",
       "expiration_date         20170915.0  20171014.0  20170930.0\n",
       "\n",
       "[206 rows x 3 columns]"
      ]
     },
     "execution_count": 27,
     "metadata": {},
     "output_type": "execute_result"
    }
   ],
   "source": [
    "dfs['train'].sample(n=3).drop(cols_to_drop, axis=1).T"
   ]
  },
  {
   "cell_type": "code",
   "execution_count": 43,
   "metadata": {
    "collapsed": true
   },
   "outputs": [],
   "source": [
    "# label encoding -> one hot encoding\n",
    "hot_encodings = {}\n",
    "ohe_cols = ['source_system_tab', 'source_screen_name', 'source_type', \n",
    "            'artist_name', 'composer', 'lyricist', 'language', 'city',\n",
    "           'gender', 'registered_via']\n",
    "for x in ohe_cols:\n",
    "    ohe = OneHotEncoder()\n",
    "    hot_encodings[x] = ohe.fit_transform(dfs['train'][[x]].as_matrix())"
   ]
  },
  {
   "cell_type": "code",
   "execution_count": 54,
   "metadata": {},
   "outputs": [],
   "source": [
    "X_train = sparse.hstack([v for k, v in hot_encodings.items()] +\n",
    "                       [sparse.csr_matrix(dfs['train'][[x for x in dfs['train'].columns \\\n",
    "                                                       if 'genre' in x]].as_matrix())] +\n",
    "                        [dfs['train'][['song_length', 'bd', 'registration_init_time',\n",
    "                                       'expiration_date']].as_matrix()])"
   ]
  },
  {
   "cell_type": "code",
   "execution_count": null,
   "metadata": {
    "collapsed": true
   },
   "outputs": [],
   "source": [
    "y_train = y_train.target - y_train.diamond_prediction"
   ]
  },
  {
   "cell_type": "code",
   "execution_count": null,
   "metadata": {},
   "outputs": [],
   "source": [
    "y_train = dfs['train']['target'] - dfs['train']['diamond_prediction']"
   ]
  },
  {
   "cell_type": "code",
   "execution_count": 56,
   "metadata": {},
   "outputs": [],
   "source": [
    "del dfs['train']"
   ]
  },
  {
   "cell_type": "code",
   "execution_count": 55,
   "metadata": {},
   "outputs": [],
   "source": [
    "model = XGBRegressor(max_depth=4,\n",
    "                    learning_rate=0.1,\n",
    "                    n_estimators=200,\n",
    "                    nthread=6)"
   ]
  },
  {
   "cell_type": "code",
   "execution_count": 56,
   "metadata": {
    "collapsed": true
   },
   "outputs": [],
   "source": [
    "model.fit(X['train'], y['train'])"
   ]
  },
  {
   "cell_type": "code",
   "execution_count": 19,
   "metadata": {},
   "outputs": [
    {
     "name": "stdout",
     "output_type": "stream",
     "text": [
      "[0]\ttrain-rmse:0.56525\tval-rmse:0.661395\n",
      "Multiple eval metrics have been passed: 'val-rmse' will be used for early stopping.\n",
      "\n",
      "Will train until val-rmse hasn't improved in 10 rounds.\n",
      "[1]\ttrain-rmse:0.504811\tval-rmse:0.590195\n",
      "[2]\ttrain-rmse:0.472358\tval-rmse:0.548613\n",
      "[3]\ttrain-rmse:0.455573\tval-rmse:0.524506\n",
      "[4]\ttrain-rmse:0.447043\tval-rmse:0.510399\n",
      "[5]\ttrain-rmse:0.442767\tval-rmse:0.502121\n",
      "[6]\ttrain-rmse:0.440593\tval-rmse:0.497007\n",
      "[7]\ttrain-rmse:0.439501\tval-rmse:0.493842\n",
      "[8]\ttrain-rmse:0.438938\tval-rmse:0.491808\n",
      "[9]\ttrain-rmse:0.438648\tval-rmse:0.490567\n",
      "[10]\ttrain-rmse:0.438484\tval-rmse:0.489682\n",
      "[11]\ttrain-rmse:0.438354\tval-rmse:0.489024\n",
      "[12]\ttrain-rmse:0.438293\tval-rmse:0.488604\n",
      "[13]\ttrain-rmse:0.438238\tval-rmse:0.488307\n",
      "[14]\ttrain-rmse:0.438193\tval-rmse:0.488105\n",
      "[15]\ttrain-rmse:0.438162\tval-rmse:0.487991\n",
      "[16]\ttrain-rmse:0.438099\tval-rmse:0.487845\n",
      "[17]\ttrain-rmse:0.438057\tval-rmse:0.487702\n",
      "[18]\ttrain-rmse:0.438014\tval-rmse:0.487613\n",
      "[19]\ttrain-rmse:0.437987\tval-rmse:0.487594\n",
      "[20]\ttrain-rmse:0.437971\tval-rmse:0.487571\n",
      "[21]\ttrain-rmse:0.437949\tval-rmse:0.487539\n",
      "[22]\ttrain-rmse:0.437928\tval-rmse:0.487509\n",
      "[23]\ttrain-rmse:0.437885\tval-rmse:0.487445\n",
      "[24]\ttrain-rmse:0.437854\tval-rmse:0.487389\n",
      "[25]\ttrain-rmse:0.437807\tval-rmse:0.487352\n",
      "[26]\ttrain-rmse:0.437793\tval-rmse:0.487342\n",
      "[27]\ttrain-rmse:0.437776\tval-rmse:0.487315\n",
      "[28]\ttrain-rmse:0.437748\tval-rmse:0.487293\n",
      "[29]\ttrain-rmse:0.437732\tval-rmse:0.487292\n",
      "[30]\ttrain-rmse:0.437708\tval-rmse:0.487314\n",
      "[31]\ttrain-rmse:0.437686\tval-rmse:0.487312\n",
      "[32]\ttrain-rmse:0.437674\tval-rmse:0.487306\n",
      "[33]\ttrain-rmse:0.437655\tval-rmse:0.487282\n",
      "[34]\ttrain-rmse:0.43763\tval-rmse:0.487218\n",
      "[35]\ttrain-rmse:0.437601\tval-rmse:0.487211\n",
      "[36]\ttrain-rmse:0.437574\tval-rmse:0.487186\n",
      "[37]\ttrain-rmse:0.437561\tval-rmse:0.487188\n",
      "[38]\ttrain-rmse:0.437552\tval-rmse:0.487168\n",
      "[39]\ttrain-rmse:0.437534\tval-rmse:0.487154\n",
      "[40]\ttrain-rmse:0.437523\tval-rmse:0.487152\n",
      "[41]\ttrain-rmse:0.437507\tval-rmse:0.487136\n",
      "[42]\ttrain-rmse:0.437497\tval-rmse:0.487139\n",
      "[43]\ttrain-rmse:0.437487\tval-rmse:0.487139\n",
      "[44]\ttrain-rmse:0.43748\tval-rmse:0.487138\n",
      "[45]\ttrain-rmse:0.437457\tval-rmse:0.487127\n",
      "[46]\ttrain-rmse:0.437442\tval-rmse:0.48713\n",
      "[47]\ttrain-rmse:0.437434\tval-rmse:0.487129\n",
      "[48]\ttrain-rmse:0.437418\tval-rmse:0.487154\n",
      "[49]\ttrain-rmse:0.437409\tval-rmse:0.487145\n",
      "[50]\ttrain-rmse:0.437389\tval-rmse:0.487136\n",
      "[51]\ttrain-rmse:0.437384\tval-rmse:0.487135\n",
      "[52]\ttrain-rmse:0.437376\tval-rmse:0.487132\n",
      "[53]\ttrain-rmse:0.43736\tval-rmse:0.487136\n",
      "[54]\ttrain-rmse:0.437337\tval-rmse:0.487131\n",
      "[55]\ttrain-rmse:0.437323\tval-rmse:0.487124\n",
      "[56]\ttrain-rmse:0.437303\tval-rmse:0.487091\n",
      "[57]\ttrain-rmse:0.437283\tval-rmse:0.487083\n",
      "[58]\ttrain-rmse:0.437275\tval-rmse:0.487082\n",
      "[59]\ttrain-rmse:0.43727\tval-rmse:0.487081\n",
      "[60]\ttrain-rmse:0.437267\tval-rmse:0.487081\n",
      "[61]\ttrain-rmse:0.437259\tval-rmse:0.487078\n",
      "[62]\ttrain-rmse:0.437234\tval-rmse:0.487069\n",
      "[63]\ttrain-rmse:0.437224\tval-rmse:0.487071\n",
      "[64]\ttrain-rmse:0.437215\tval-rmse:0.487047\n",
      "[65]\ttrain-rmse:0.437213\tval-rmse:0.487047\n",
      "[66]\ttrain-rmse:0.437202\tval-rmse:0.487044\n",
      "[67]\ttrain-rmse:0.437181\tval-rmse:0.487024\n",
      "[68]\ttrain-rmse:0.437162\tval-rmse:0.48702\n",
      "[69]\ttrain-rmse:0.43714\tval-rmse:0.486998\n",
      "[70]\ttrain-rmse:0.437128\tval-rmse:0.486986\n",
      "[71]\ttrain-rmse:0.437104\tval-rmse:0.486962\n",
      "[72]\ttrain-rmse:0.437101\tval-rmse:0.486962\n",
      "[73]\ttrain-rmse:0.437093\tval-rmse:0.486958\n",
      "[74]\ttrain-rmse:0.437091\tval-rmse:0.486957\n",
      "[75]\ttrain-rmse:0.437078\tval-rmse:0.486951\n",
      "[76]\ttrain-rmse:0.437066\tval-rmse:0.486948\n",
      "[77]\ttrain-rmse:0.437056\tval-rmse:0.486962\n",
      "[78]\ttrain-rmse:0.437041\tval-rmse:0.486955\n",
      "[79]\ttrain-rmse:0.437018\tval-rmse:0.486947\n",
      "[80]\ttrain-rmse:0.437002\tval-rmse:0.48693\n",
      "[81]\ttrain-rmse:0.437001\tval-rmse:0.486932\n",
      "[82]\ttrain-rmse:0.436996\tval-rmse:0.486931\n",
      "[83]\ttrain-rmse:0.436975\tval-rmse:0.486938\n",
      "[84]\ttrain-rmse:0.436965\tval-rmse:0.486924\n",
      "[85]\ttrain-rmse:0.436954\tval-rmse:0.486928\n",
      "[86]\ttrain-rmse:0.436943\tval-rmse:0.486924\n",
      "[87]\ttrain-rmse:0.436939\tval-rmse:0.486925\n",
      "[88]\ttrain-rmse:0.436936\tval-rmse:0.486927\n",
      "[89]\ttrain-rmse:0.436933\tval-rmse:0.486928\n",
      "[90]\ttrain-rmse:0.436931\tval-rmse:0.486928\n",
      "[91]\ttrain-rmse:0.436921\tval-rmse:0.486906\n",
      "[92]\ttrain-rmse:0.436911\tval-rmse:0.486902\n",
      "[93]\ttrain-rmse:0.4369\tval-rmse:0.48691\n",
      "[94]\ttrain-rmse:0.436879\tval-rmse:0.486905\n",
      "[95]\ttrain-rmse:0.436866\tval-rmse:0.486903\n",
      "[96]\ttrain-rmse:0.436864\tval-rmse:0.486902\n",
      "[97]\ttrain-rmse:0.436862\tval-rmse:0.486901\n",
      "[98]\ttrain-rmse:0.436857\tval-rmse:0.486903\n",
      "[99]\ttrain-rmse:0.436855\tval-rmse:0.486904\n",
      "[100]\ttrain-rmse:0.436849\tval-rmse:0.486903\n",
      "[101]\ttrain-rmse:0.436842\tval-rmse:0.486895\n",
      "[102]\ttrain-rmse:0.436822\tval-rmse:0.486868\n",
      "[103]\ttrain-rmse:0.436809\tval-rmse:0.48686\n",
      "[104]\ttrain-rmse:0.436798\tval-rmse:0.486867\n",
      "[105]\ttrain-rmse:0.436788\tval-rmse:0.486873\n",
      "[106]\ttrain-rmse:0.436777\tval-rmse:0.486873\n",
      "[107]\ttrain-rmse:0.436766\tval-rmse:0.486869\n",
      "[108]\ttrain-rmse:0.43676\tval-rmse:0.486865\n",
      "[109]\ttrain-rmse:0.436743\tval-rmse:0.486887\n",
      "[110]\ttrain-rmse:0.436738\tval-rmse:0.486889\n",
      "[111]\ttrain-rmse:0.436727\tval-rmse:0.486881\n",
      "[112]\ttrain-rmse:0.43672\tval-rmse:0.486874\n",
      "[113]\ttrain-rmse:0.436708\tval-rmse:0.486875\n",
      "Stopping. Best iteration:\n",
      "[103]\ttrain-rmse:0.436809\tval-rmse:0.48686\n",
      "\n"
     ]
    }
   ],
   "source": [
    "\n",
    "# df_train model, evaluate and make predictions\n",
    "watchlist = [(D['train'], 'train'), (D['val'], 'val')]\n",
    "params = {}\n",
    "params['objective'] = 'reg:linear'\n",
    "params['max_depth'] = 4\n",
    "params['silent'] = 1\n",
    "MAX_ITS = 200\n",
    "\n",
    "\n",
    "model = xgb.train(params, D['train'], MAX_ITS, watchlist, early_stopping_rounds=10, verbose_eval=1)\n",
    "#model.save('model/xgboost_postdiamond_%d' % MAX_ITS)"
   ]
  },
  {
   "cell_type": "code",
   "execution_count": 20,
   "metadata": {
    "collapsed": true
   },
   "outputs": [],
   "source": [
    "model.save_model('models/xgboost_postdiamond_%d' % MAX_ITS)"
   ]
  },
  {
   "cell_type": "markdown",
   "metadata": {},
   "source": [
    "Evaluate on validation data"
   ]
  },
  {
   "cell_type": "code",
   "execution_count": 21,
   "metadata": {},
   "outputs": [
    {
     "data": {
      "text/plain": [
       "0.6517490247447284"
      ]
     },
     "execution_count": 21,
     "metadata": {},
     "output_type": "execute_result"
    }
   ],
   "source": [
    "xgb_preds = model.predict(D['val'])\n",
    "roc_auc_score(dfs['val']['target'],\n",
    "              dfs['val']['diamond_prediction'] + xgb_preds)"
   ]
  },
  {
   "cell_type": "code",
   "execution_count": 22,
   "metadata": {},
   "outputs": [
    {
     "data": {
      "text/plain": [
       "{'best_iteration': '103',\n",
       " 'best_msg': '[103]\\ttrain-rmse:0.436809\\tval-rmse:0.48686',\n",
       " 'best_score': '0.48686'}"
      ]
     },
     "execution_count": 22,
     "metadata": {},
     "output_type": "execute_result"
    }
   ],
   "source": [
    "model.attributes()"
   ]
  },
  {
   "cell_type": "code",
   "execution_count": 23,
   "metadata": {},
   "outputs": [
    {
     "data": {
      "text/plain": [
       "104"
      ]
     },
     "execution_count": 23,
     "metadata": {},
     "output_type": "execute_result"
    }
   ],
   "source": [
    "model.best_ntree_limit"
   ]
  }
 ],
 "metadata": {
  "kernelspec": {
   "display_name": "Python 3",
   "language": "python",
   "name": "python3"
  },
  "language_info": {
   "codemirror_mode": {
    "name": "ipython",
    "version": 3
   },
   "file_extension": ".py",
   "mimetype": "text/x-python",
   "name": "python",
   "nbconvert_exporter": "python",
   "pygments_lexer": "ipython3",
   "version": "3.6.1"
  }
 },
 "nbformat": 4,
 "nbformat_minor": 2
}
