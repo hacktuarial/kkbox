{
 "cells": [
  {
   "cell_type": "code",
   "execution_count": 1,
   "metadata": {},
   "outputs": [
    {
     "name": "stderr",
     "output_type": "stream",
     "text": [
      "/Users/timothysweetser/python/virtualenv/work3/lib/python3.6/site-packages/lightfm/_lightfm_fast.py:9: UserWarning: LightFM was compiled without OpenMP support. Only a single thread will be used.\n",
      "  warnings.warn('LightFM was compiled without OpenMP support. '\n"
     ]
    }
   ],
   "source": [
    "import pickle\n",
    "from lightfm import LightFM\n",
    "from scipy.io import mmread\n",
    "from collections import defaultdict\n",
    "import logging\n",
    "from sklearn.metrics import roc_auc_score\n",
    "\n",
    "\n",
    "logging.basicConfig(format='%(asctime)s %(levelname)s:%(message)s',\n",
    "                   level=logging.INFO)"
   ]
  },
  {
   "cell_type": "code",
   "execution_count": null,
   "metadata": {
    "collapsed": true
   },
   "outputs": [],
   "source": [
    "def measure_auc(X, model):\n",
    "    preds = model.predict(user_ids=X.row,\n",
    "                  item_ids=X.col,\n",
    "                  user_features=member_features,\n",
    "                  item_features=song_features)\n",
    "    return roc_auc_score(X.data, preds)"
   ]
  },
  {
   "cell_type": "code",
   "execution_count": 2,
   "metadata": {
    "collapsed": true
   },
   "outputs": [],
   "source": [
    "X_train = mmread('data/processed/X_train.mtx')\n",
    "X_val = mmread('data/processed/X_validation.mtx')\n",
    "member_features = mmread('data/processed/member_X.mtx')\n",
    "song_features = mmread('data/processed/song_X.mtx')"
   ]
  },
  {
   "cell_type": "code",
   "execution_count": null,
   "metadata": {
    "collapsed": true
   },
   "outputs": [],
   "source": [
    "alphas = [3**x for x in range(-6, 0)]\n",
    "components = [1, 5, 10]\n",
    "iterations = [5, 20]\n",
    "results = []"
   ]
  },
  {
   "cell_type": "code",
   "execution_count": null,
   "metadata": {},
   "outputs": [
    {
     "name": "stderr",
     "output_type": "stream",
     "text": [
      "2017-09-30 11:48:01,171 INFO:fitting alpha = 0.001372, 1 components\n",
      "2017-09-30 11:50:52,958 INFO:fitting alpha = 0.001372, 5 components\n",
      "2017-09-30 11:54:39,906 INFO:fitting alpha = 0.001372, 10 components\n",
      "2017-09-30 12:00:23,100 INFO:fitting alpha = 0.004115, 1 components\n",
      "2017-09-30 12:03:15,263 INFO:fitting alpha = 0.004115, 5 components\n",
      "2017-09-30 12:09:30,289 INFO:fitting alpha = 0.004115, 10 components\n",
      "2017-09-30 12:18:36,095 INFO:fitting alpha = 0.012346, 1 components\n",
      "2017-09-30 12:20:49,781 INFO:fitting alpha = 0.012346, 5 components\n",
      "2017-09-30 12:24:37,918 INFO:fitting alpha = 0.012346, 10 components\n",
      "2017-09-30 12:30:33,562 INFO:fitting alpha = 0.037037, 1 components\n",
      "2017-09-30 12:33:05,887 INFO:fitting alpha = 0.037037, 5 components\n",
      "2017-09-30 12:38:07,355 INFO:fitting alpha = 0.037037, 10 components\n",
      "2017-09-30 12:45:59,805 INFO:fitting alpha = 0.111111, 1 components\n",
      "2017-09-30 12:50:33,273 INFO:fitting alpha = 0.111111, 5 components\n",
      "2017-09-30 13:04:18,932 INFO:fitting alpha = 0.111111, 10 components\n",
      "2017-09-30 13:27:19,114 INFO:fitting alpha = 0.333333, 1 components\n"
     ]
    }
   ],
   "source": [
    "    \n",
    "for a in alphas:\n",
    "    for nc in components:\n",
    "        logging.info('fitting alpha = %f, %d components', a, nc)\n",
    "        these_results = {'alpha': a, 'no_components': nc}\n",
    "        model = LightFM(no_components=nc,\n",
    "                        learning_schedule='adagrad',\n",
    "                        loss='logistic',\n",
    "                        user_alpha=a,\n",
    "                        item_alpha=a)\n",
    "        model.fit_partial(X_train,\n",
    "                     user_features=member_features,\n",
    "                     item_features=song_features,\n",
    "                     epochs=iterations[0],\n",
    "                     verbose=False)\n",
    "        these_results['train_auc%d' % iterations[0]] = measure_auc(X_train, model)\n",
    "        these_results['val_auc%d' % iterations[0]] = measure_auc(X_val, model)\n",
    "        # fit rest of iterations\n",
    "        model.fit_partial(X_train,\n",
    "                     user_features=member_features,\n",
    "                     item_features=song_features,\n",
    "                     epochs=iterations[1] - iterations[0],\n",
    "                     verbose=False)\n",
    "        these_results['train_auc%d' % iterations[1]] = measure_auc(X_train, model)\n",
    "        these_results['val_auc%d' % iterations[1]] = measure_auc(X_val, model)\n",
    "        results.append(these_results)"
   ]
  },
  {
   "cell_type": "markdown",
   "metadata": {},
   "source": [
    "This took XXX minutes single-threaded"
   ]
  }
 ],
 "metadata": {
  "kernelspec": {
   "display_name": "Python 3",
   "language": "python",
   "name": "python3"
  },
  "language_info": {
   "codemirror_mode": {
    "name": "ipython",
    "version": 3
   },
   "file_extension": ".py",
   "mimetype": "text/x-python",
   "name": "python",
   "nbconvert_exporter": "python",
   "pygments_lexer": "ipython3",
   "version": "3.6.1"
  }
 },
 "nbformat": 4,
 "nbformat_minor": 2
}
