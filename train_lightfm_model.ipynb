{
 "cells": [
  {
   "cell_type": "code",
   "execution_count": 61,
   "metadata": {
    "collapsed": true
   },
   "outputs": [],
   "source": [
    "from lightfm import LightFM\n",
    "from scipy.io import mmread\n",
    "from collections import defaultdict\n",
    "import logging\n",
    "from sklearn.metrics import roc_auc_score\n",
    "import pandas as pd\n",
    "import numpy as np\n",
    "import math\n",
    "\n",
    "logging.basicConfig(format='%(asctime)s %(levelname)s:%(message)s',\n",
    "                   level=logging.INFO)"
   ]
  },
  {
   "cell_type": "code",
   "execution_count": 21,
   "metadata": {
    "collapsed": true
   },
   "outputs": [],
   "source": [
    "from plotnine import *\n",
    "%matplotlib inline\n",
    "%config InlineBackend.figure_format = 'retina'"
   ]
  },
  {
   "cell_type": "code",
   "execution_count": 2,
   "metadata": {
    "collapsed": true
   },
   "outputs": [],
   "source": [
    "def measure_auc(X, model, num_threads=1):\n",
    "    preds = model.predict(user_ids=X.row,\n",
    "                  item_ids=X.col,\n",
    "                  user_features=member_features,\n",
    "                  item_features=song_features,\n",
    "                  num_threads=num_threads)\n",
    "    return roc_auc_score(X.data, preds)"
   ]
  },
  {
   "cell_type": "code",
   "execution_count": 3,
   "metadata": {},
   "outputs": [
    {
     "name": "stdout",
     "output_type": "stream",
     "text": [
      "CPU times: user 46.6 s, sys: 415 ms, total: 47 s\n",
      "Wall time: 47 s\n"
     ]
    }
   ],
   "source": [
    "%%time\n",
    "X_train = mmread('data/processed/X_train.mtx')\n",
    "X_val = mmread('data/processed/X_validation.mtx')\n",
    "member_features = mmread('data/processed/member_X.mtx')\n",
    "song_features = mmread('data/processed/song_X.mtx')"
   ]
  },
  {
   "cell_type": "code",
   "execution_count": 53,
   "metadata": {
    "collapsed": true
   },
   "outputs": [],
   "source": [
    "alphas = [3**x for x in range(-10, -5)]\n",
    "components = [1, 5, 10]\n",
    "iterations = [10]\n",
    "results = []\n",
    "\n",
    "NUM_THREADS=6"
   ]
  },
  {
   "cell_type": "code",
   "execution_count": 54,
   "metadata": {},
   "outputs": [
    {
     "name": "stderr",
     "output_type": "stream",
     "text": [
      "2017-09-30 21:56:39,824 INFO:fitting alpha = 0.000017, 1 components\n",
      "2017-09-30 21:57:01,880 INFO:fitting alpha = 0.000017, 5 components\n",
      "2017-09-30 21:57:38,327 INFO:fitting alpha = 0.000017, 10 components\n",
      "2017-09-30 21:58:30,242 INFO:fitting alpha = 0.000051, 1 components\n",
      "2017-09-30 21:58:52,519 INFO:fitting alpha = 0.000051, 5 components\n",
      "2017-09-30 21:59:28,733 INFO:fitting alpha = 0.000051, 10 components\n",
      "2017-09-30 22:00:19,365 INFO:fitting alpha = 0.000152, 1 components\n",
      "2017-09-30 22:00:40,831 INFO:fitting alpha = 0.000152, 5 components\n",
      "2017-09-30 22:01:16,882 INFO:fitting alpha = 0.000152, 10 components\n",
      "2017-09-30 22:02:07,826 INFO:fitting alpha = 0.000457, 1 components\n",
      "2017-09-30 22:02:29,649 INFO:fitting alpha = 0.000457, 5 components\n",
      "2017-09-30 22:03:05,315 INFO:fitting alpha = 0.000457, 10 components\n",
      "2017-09-30 22:03:57,762 INFO:fitting alpha = 0.001372, 1 components\n",
      "2017-09-30 22:04:20,264 INFO:fitting alpha = 0.001372, 5 components\n",
      "2017-09-30 22:04:56,741 INFO:fitting alpha = 0.001372, 10 components\n"
     ]
    }
   ],
   "source": [
    "for a in alphas:\n",
    "    for nc in components:\n",
    "        logging.info('fitting alpha = %f, %d components', a, nc)\n",
    "        these_results = {'alpha': a, 'no_components': nc}\n",
    "        model = LightFM(no_components=nc,\n",
    "                        learning_schedule='adagrad',\n",
    "                        loss='logistic',\n",
    "                        user_alpha=a,\n",
    "                        item_alpha=a)\n",
    "        model.fit_partial(X_train,\n",
    "                         user_features=member_features,\n",
    "                         item_features=song_features,\n",
    "                         epochs=iterations[0],\n",
    "                         verbose=False,\n",
    "                         num_threads=NUM_THREADS)\n",
    "        these_results['train_auc%d' % iterations[0]] = \\\n",
    "            measure_auc(X_train, model, NUM_THREADS)\n",
    "        these_results['val_auc%d' % iterations[0]] = \\\n",
    "            measure_auc(X_val, model, NUM_THREADS)\n",
    "        results.append(these_results)"
   ]
  },
  {
   "cell_type": "code",
   "execution_count": 55,
   "metadata": {},
   "outputs": [
    {
     "data": {
      "text/html": [
       "<div>\n",
       "<style>\n",
       "    .dataframe thead tr:only-child th {\n",
       "        text-align: right;\n",
       "    }\n",
       "\n",
       "    .dataframe thead th {\n",
       "        text-align: left;\n",
       "    }\n",
       "\n",
       "    .dataframe tbody tr th {\n",
       "        vertical-align: top;\n",
       "    }\n",
       "</style>\n",
       "<table border=\"1\" class=\"dataframe\">\n",
       "  <thead>\n",
       "    <tr style=\"text-align: right;\">\n",
       "      <th></th>\n",
       "      <th>alpha</th>\n",
       "      <th>no_components</th>\n",
       "      <th>variable</th>\n",
       "      <th>auc</th>\n",
       "      <th>iterations</th>\n",
       "      <th>data</th>\n",
       "      <th>regularization</th>\n",
       "    </tr>\n",
       "  </thead>\n",
       "  <tbody>\n",
       "    <tr>\n",
       "      <th>0</th>\n",
       "      <td>0.000017</td>\n",
       "      <td>1</td>\n",
       "      <td>train_auc10</td>\n",
       "      <td>0.782188</td>\n",
       "      <td>10</td>\n",
       "      <td>train</td>\n",
       "      <td>-10.986123</td>\n",
       "    </tr>\n",
       "    <tr>\n",
       "      <th>1</th>\n",
       "      <td>0.000017</td>\n",
       "      <td>5</td>\n",
       "      <td>train_auc10</td>\n",
       "      <td>0.822801</td>\n",
       "      <td>10</td>\n",
       "      <td>train</td>\n",
       "      <td>-10.986123</td>\n",
       "    </tr>\n",
       "    <tr>\n",
       "      <th>2</th>\n",
       "      <td>0.000017</td>\n",
       "      <td>10</td>\n",
       "      <td>train_auc10</td>\n",
       "      <td>0.842951</td>\n",
       "      <td>10</td>\n",
       "      <td>train</td>\n",
       "      <td>-10.986123</td>\n",
       "    </tr>\n",
       "    <tr>\n",
       "      <th>3</th>\n",
       "      <td>0.000051</td>\n",
       "      <td>1</td>\n",
       "      <td>train_auc10</td>\n",
       "      <td>0.770300</td>\n",
       "      <td>10</td>\n",
       "      <td>train</td>\n",
       "      <td>-9.887511</td>\n",
       "    </tr>\n",
       "    <tr>\n",
       "      <th>4</th>\n",
       "      <td>0.000051</td>\n",
       "      <td>5</td>\n",
       "      <td>train_auc10</td>\n",
       "      <td>0.804708</td>\n",
       "      <td>10</td>\n",
       "      <td>train</td>\n",
       "      <td>-9.887511</td>\n",
       "    </tr>\n",
       "  </tbody>\n",
       "</table>\n",
       "</div>"
      ],
      "text/plain": [
       "      alpha  no_components     variable       auc  iterations   data  \\\n",
       "0  0.000017              1  train_auc10  0.782188          10  train   \n",
       "1  0.000017              5  train_auc10  0.822801          10  train   \n",
       "2  0.000017             10  train_auc10  0.842951          10  train   \n",
       "3  0.000051              1  train_auc10  0.770300          10  train   \n",
       "4  0.000051              5  train_auc10  0.804708          10  train   \n",
       "\n",
       "   regularization  \n",
       "0      -10.986123  \n",
       "1      -10.986123  \n",
       "2      -10.986123  \n",
       "3       -9.887511  \n",
       "4       -9.887511  "
      ]
     },
     "execution_count": 55,
     "metadata": {},
     "output_type": "execute_result"
    }
   ],
   "source": [
    "df_results = pd.melt(pd.DataFrame(results), ['alpha', 'no_components'], value_name='auc')\n",
    "df_results['iterations'] = df_results['variable'].apply(lambda s: s.split('auc')[-1]).astype(int)\n",
    "df_results['data'] = df_results['variable'].apply(lambda s: s.split('_')[0])\n",
    "df_results['regularization'] = df_results['alpha'].apply(np.log)\n",
    "df_results.head()"
   ]
  },
  {
   "cell_type": "code",
   "execution_count": 56,
   "metadata": {},
   "outputs": [
    {
     "data": {
      "image/png": "[encoded data removed]",
      "text/plain": [
       "<matplotlib.figure.Figure at 0x115571be0>"
      ]
     },
     "metadata": {
      "image/png": {
       "height": 430,
       "width": 671
      }
     },
     "output_type": "display_data"
    },
    {
     "data": {
      "text/plain": [
       "<ggplot: (-9223372036562066172)>"
      ]
     },
     "execution_count": 56,
     "metadata": {},
     "output_type": "execute_result"
    }
   ],
   "source": [
    "g = (ggplot(df_results.query('iterations > 8'),\n",
    "        aes('no_components', 'regularization',\n",
    "                        group='regularization', color='data', size='auc')) +\n",
    "geom_point() + ylab('alpha, log scale'))\n",
    "g"
   ]
  },
  {
   "cell_type": "code",
   "execution_count": 57,
   "metadata": {},
   "outputs": [
    {
     "name": "stderr",
     "output_type": "stream",
     "text": [
      "/Users/timothysweetser/python/virtualenv/work3/lib/python3.6/site-packages/plotnine/ggplot.py:551: UserWarning: Saving 6.4 x 4.8 in image.\n",
      "  from_inches(h, units), units))\n"
     ]
    }
   ],
   "source": [
    "g.save('figures/lightfm_hyperparameters_2.png')"
   ]
  },
  {
   "cell_type": "code",
   "execution_count": 58,
   "metadata": {},
   "outputs": [
    {
     "data": {
      "text/html": [
       "<div>\n",
       "<style>\n",
       "    .dataframe thead tr:only-child th {\n",
       "        text-align: right;\n",
       "    }\n",
       "\n",
       "    .dataframe thead th {\n",
       "        text-align: left;\n",
       "    }\n",
       "\n",
       "    .dataframe tbody tr th {\n",
       "        vertical-align: top;\n",
       "    }\n",
       "</style>\n",
       "<table border=\"1\" class=\"dataframe\">\n",
       "  <thead>\n",
       "    <tr style=\"text-align: right;\">\n",
       "      <th></th>\n",
       "      <th>alpha</th>\n",
       "      <th>no_components</th>\n",
       "      <th>variable</th>\n",
       "      <th>auc</th>\n",
       "      <th>iterations</th>\n",
       "      <th>data</th>\n",
       "      <th>regularization</th>\n",
       "    </tr>\n",
       "  </thead>\n",
       "  <tbody>\n",
       "    <tr>\n",
       "      <th>20</th>\n",
       "      <td>0.000051</td>\n",
       "      <td>10</td>\n",
       "      <td>val_auc10</td>\n",
       "      <td>0.637418</td>\n",
       "      <td>10</td>\n",
       "      <td>val</td>\n",
       "      <td>-9.887511</td>\n",
       "    </tr>\n",
       "    <tr>\n",
       "      <th>19</th>\n",
       "      <td>0.000051</td>\n",
       "      <td>5</td>\n",
       "      <td>val_auc10</td>\n",
       "      <td>0.636821</td>\n",
       "      <td>10</td>\n",
       "      <td>val</td>\n",
       "      <td>-9.887511</td>\n",
       "    </tr>\n",
       "    <tr>\n",
       "      <th>16</th>\n",
       "      <td>0.000017</td>\n",
       "      <td>5</td>\n",
       "      <td>val_auc10</td>\n",
       "      <td>0.636509</td>\n",
       "      <td>10</td>\n",
       "      <td>val</td>\n",
       "      <td>-10.986123</td>\n",
       "    </tr>\n",
       "  </tbody>\n",
       "</table>\n",
       "</div>"
      ],
      "text/plain": [
       "       alpha  no_components   variable       auc  iterations data  \\\n",
       "20  0.000051             10  val_auc10  0.637418          10  val   \n",
       "19  0.000051              5  val_auc10  0.636821          10  val   \n",
       "16  0.000017              5  val_auc10  0.636509          10  val   \n",
       "\n",
       "    regularization  \n",
       "20       -9.887511  \n",
       "19       -9.887511  \n",
       "16      -10.986123  "
      ]
     },
     "execution_count": 58,
     "metadata": {},
     "output_type": "execute_result"
    }
   ],
   "source": [
    "df_results[df_results.data == 'val'].sort_values('auc', ascending=False).head(3)"
   ]
  },
  {
   "cell_type": "code",
   "execution_count": 64,
   "metadata": {},
   "outputs": [
    {
     "data": {
      "text/plain": [
       "-8.99651772257374"
      ]
     },
     "execution_count": 64,
     "metadata": {},
     "output_type": "execute_result"
    }
   ],
   "source": [
    "math.log(0.000051, 3)"
   ]
  },
  {
   "cell_type": "code",
   "execution_count": 66,
   "metadata": {},
   "outputs": [
    {
     "data": {
      "text/html": [
       "<div>\n",
       "<style>\n",
       "    .dataframe thead tr:only-child th {\n",
       "        text-align: right;\n",
       "    }\n",
       "\n",
       "    .dataframe thead th {\n",
       "        text-align: left;\n",
       "    }\n",
       "\n",
       "    .dataframe tbody tr th {\n",
       "        vertical-align: top;\n",
       "    }\n",
       "</style>\n",
       "<table border=\"1\" class=\"dataframe\">\n",
       "  <thead>\n",
       "    <tr style=\"text-align: right;\">\n",
       "      <th></th>\n",
       "      <th>alpha</th>\n",
       "      <th>no_components</th>\n",
       "      <th>variable</th>\n",
       "      <th>auc</th>\n",
       "      <th>iterations</th>\n",
       "      <th>data</th>\n",
       "      <th>regularization</th>\n",
       "    </tr>\n",
       "  </thead>\n",
       "  <tbody>\n",
       "    <tr>\n",
       "      <th>18</th>\n",
       "      <td>0.000051</td>\n",
       "      <td>1</td>\n",
       "      <td>val_auc10</td>\n",
       "      <td>0.634591</td>\n",
       "      <td>10</td>\n",
       "      <td>val</td>\n",
       "      <td>-9.887511</td>\n",
       "    </tr>\n",
       "    <tr>\n",
       "      <th>19</th>\n",
       "      <td>0.000051</td>\n",
       "      <td>5</td>\n",
       "      <td>val_auc10</td>\n",
       "      <td>0.636821</td>\n",
       "      <td>10</td>\n",
       "      <td>val</td>\n",
       "      <td>-9.887511</td>\n",
       "    </tr>\n",
       "    <tr>\n",
       "      <th>20</th>\n",
       "      <td>0.000051</td>\n",
       "      <td>10</td>\n",
       "      <td>val_auc10</td>\n",
       "      <td>0.637418</td>\n",
       "      <td>10</td>\n",
       "      <td>val</td>\n",
       "      <td>-9.887511</td>\n",
       "    </tr>\n",
       "  </tbody>\n",
       "</table>\n",
       "</div>"
      ],
      "text/plain": [
       "       alpha  no_components   variable       auc  iterations data  \\\n",
       "18  0.000051              1  val_auc10  0.634591          10  val   \n",
       "19  0.000051              5  val_auc10  0.636821          10  val   \n",
       "20  0.000051             10  val_auc10  0.637418          10  val   \n",
       "\n",
       "    regularization  \n",
       "18       -9.887511  \n",
       "19       -9.887511  \n",
       "20       -9.887511  "
      ]
     },
     "execution_count": 66,
     "metadata": {},
     "output_type": "execute_result"
    }
   ],
   "source": [
    "df_results.query('regularization > -10 & regularization < -9 & data==\"val\"')"
   ]
  },
  {
   "cell_type": "code",
   "execution_count": 69,
   "metadata": {},
   "outputs": [
    {
     "data": {
      "text/html": [
       "<div>\n",
       "<style>\n",
       "    .dataframe thead tr:only-child th {\n",
       "        text-align: right;\n",
       "    }\n",
       "\n",
       "    .dataframe thead th {\n",
       "        text-align: left;\n",
       "    }\n",
       "\n",
       "    .dataframe tbody tr th {\n",
       "        vertical-align: top;\n",
       "    }\n",
       "</style>\n",
       "<table border=\"1\" class=\"dataframe\">\n",
       "  <thead>\n",
       "    <tr style=\"text-align: right;\">\n",
       "      <th></th>\n",
       "      <th>alpha</th>\n",
       "      <th>no_components</th>\n",
       "      <th>variable</th>\n",
       "      <th>auc</th>\n",
       "      <th>iterations</th>\n",
       "      <th>data</th>\n",
       "      <th>regularization</th>\n",
       "    </tr>\n",
       "  </thead>\n",
       "  <tbody>\n",
       "    <tr>\n",
       "      <th>20</th>\n",
       "      <td>0.000051</td>\n",
       "      <td>10</td>\n",
       "      <td>val_auc10</td>\n",
       "      <td>0.637418</td>\n",
       "      <td>10</td>\n",
       "      <td>val</td>\n",
       "      <td>-9.887511</td>\n",
       "    </tr>\n",
       "    <tr>\n",
       "      <th>19</th>\n",
       "      <td>0.000051</td>\n",
       "      <td>5</td>\n",
       "      <td>val_auc10</td>\n",
       "      <td>0.636821</td>\n",
       "      <td>10</td>\n",
       "      <td>val</td>\n",
       "      <td>-9.887511</td>\n",
       "    </tr>\n",
       "    <tr>\n",
       "      <th>16</th>\n",
       "      <td>0.000017</td>\n",
       "      <td>5</td>\n",
       "      <td>val_auc10</td>\n",
       "      <td>0.636509</td>\n",
       "      <td>10</td>\n",
       "      <td>val</td>\n",
       "      <td>-10.986123</td>\n",
       "    </tr>\n",
       "  </tbody>\n",
       "</table>\n",
       "</div>"
      ],
      "text/plain": [
       "       alpha  no_components   variable       auc  iterations data  \\\n",
       "20  0.000051             10  val_auc10  0.637418          10  val   \n",
       "19  0.000051              5  val_auc10  0.636821          10  val   \n",
       "16  0.000017              5  val_auc10  0.636509          10  val   \n",
       "\n",
       "    regularization  \n",
       "20       -9.887511  \n",
       "19       -9.887511  \n",
       "16      -10.986123  "
      ]
     },
     "execution_count": 69,
     "metadata": {},
     "output_type": "execute_result"
    }
   ],
   "source": [
    "df_results.query('data == \"val\"').sort_values('auc', ascending=False).head(3)"
   ]
  },
  {
   "cell_type": "code",
   "execution_count": null,
   "metadata": {
    "collapsed": true
   },
   "outputs": [],
   "source": []
  }
 ],
 "metadata": {
  "kernelspec": {
   "display_name": "Python 3",
   "language": "python",
   "name": "python3"
  },
  "language_info": {
   "codemirror_mode": {
    "name": "ipython",
    "version": 3
   },
   "file_extension": ".py",
   "mimetype": "text/x-python",
   "name": "python",
   "nbconvert_exporter": "python",
   "pygments_lexer": "ipython3",
   "version": "3.6.1"
  }
 },
 "nbformat": 4,
 "nbformat_minor": 2
}
