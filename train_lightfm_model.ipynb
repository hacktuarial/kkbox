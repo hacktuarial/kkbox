{
 "cells": [
  {
   "cell_type": "code",
   "execution_count": 42,
   "metadata": {},
   "outputs": [],
   "source": [
    "import pickle\n",
    "from lightfm import LightFM\n",
    "from scipy.io import mmread\n",
    "from collections import defaultdict\n",
    "import logging\n",
    "from sklearn.metrics import roc_auc_score\n",
    "import pandas as pd\n",
    "import numpy as np\n",
    "\n",
    "\n",
    "logging.basicConfig(format='%(asctime)s %(levelname)s:%(message)s',\n",
    "                   level=logging.INFO)"
   ]
  },
  {
   "cell_type": "code",
   "execution_count": 21,
   "metadata": {},
   "outputs": [],
   "source": [
    "from plotnine import *\n",
    "%matplotlib inline\n",
    "%config InlineBackend.figure_format = 'retina'"
   ]
  },
  {
   "cell_type": "code",
   "execution_count": 2,
   "metadata": {
    "collapsed": true
   },
   "outputs": [],
   "source": [
    "def measure_auc(X, model, num_threads=1):\n",
    "    preds = model.predict(user_ids=X.row,\n",
    "                  item_ids=X.col,\n",
    "                  user_features=member_features,\n",
    "                  item_features=song_features,\n",
    "                  num_threads=num_threads)\n",
    "    return roc_auc_score(X.data, preds)"
   ]
  },
  {
   "cell_type": "code",
   "execution_count": 3,
   "metadata": {},
   "outputs": [
    {
     "name": "stdout",
     "output_type": "stream",
     "text": [
      "CPU times: user 46.6 s, sys: 415 ms, total: 47 s\n",
      "Wall time: 47 s\n"
     ]
    }
   ],
   "source": [
    "%%time\n",
    "X_train = mmread('data/processed/X_train.mtx')\n",
    "X_val = mmread('data/processed/X_validation.mtx')\n",
    "member_features = mmread('data/processed/member_X.mtx')\n",
    "song_features = mmread('data/processed/song_X.mtx')"
   ]
  },
  {
   "cell_type": "code",
   "execution_count": 51,
   "metadata": {
    "collapsed": true
   },
   "outputs": [],
   "source": [
    "alphas = [3**x for x in range(-10, -5)]\n",
    "components = [1, 5, 10]\n",
    "iterations = [20, 20]\n",
    "results = []\n",
    "\n",
    "NUM_THREADS=6"
   ]
  },
  {
   "cell_type": "code",
   "execution_count": 52,
   "metadata": {},
   "outputs": [
    {
     "name": "stderr",
     "output_type": "stream",
     "text": [
      "2017-09-30 21:55:44,468 INFO:fitting alpha = 0.000017, 1 components\n"
     ]
    },
    {
     "ename": "KeyboardInterrupt",
     "evalue": "",
     "output_type": "error",
     "traceback": [
      "\u001b[0;31m---------------------------------------------------------------------------\u001b[0m",
      "\u001b[0;31mKeyboardInterrupt\u001b[0m                         Traceback (most recent call last)",
      "\u001b[0;32m<ipython-input-52-dbbccfe4deca>\u001b[0m in \u001b[0;36m<module>\u001b[0;34m()\u001b[0m\n\u001b[1;32m     13\u001b[0m                          \u001b[0mepochs\u001b[0m\u001b[0;34m=\u001b[0m\u001b[0miterations\u001b[0m\u001b[0;34m[\u001b[0m\u001b[0;36m0\u001b[0m\u001b[0;34m]\u001b[0m\u001b[0;34m,\u001b[0m\u001b[0;34m\u001b[0m\u001b[0m\n\u001b[1;32m     14\u001b[0m                          \u001b[0mverbose\u001b[0m\u001b[0;34m=\u001b[0m\u001b[0;32mFalse\u001b[0m\u001b[0;34m,\u001b[0m\u001b[0;34m\u001b[0m\u001b[0m\n\u001b[0;32m---> 15\u001b[0;31m                          num_threads=NUM_THREADS)\n\u001b[0m\u001b[1;32m     16\u001b[0m         \u001b[0mthese_results\u001b[0m\u001b[0;34m[\u001b[0m\u001b[0;34m'train_auc%d'\u001b[0m \u001b[0;34m%\u001b[0m \u001b[0miterations\u001b[0m\u001b[0;34m[\u001b[0m\u001b[0;36m0\u001b[0m\u001b[0;34m]\u001b[0m\u001b[0;34m]\u001b[0m \u001b[0;34m=\u001b[0m             \u001b[0mmeasure_auc\u001b[0m\u001b[0;34m(\u001b[0m\u001b[0mX_train\u001b[0m\u001b[0;34m,\u001b[0m \u001b[0mmodel\u001b[0m\u001b[0;34m,\u001b[0m \u001b[0mNUM_THREADS\u001b[0m\u001b[0;34m)\u001b[0m\u001b[0;34m\u001b[0m\u001b[0m\n\u001b[1;32m     17\u001b[0m         \u001b[0mthese_results\u001b[0m\u001b[0;34m[\u001b[0m\u001b[0;34m'val_auc%d'\u001b[0m \u001b[0;34m%\u001b[0m \u001b[0miterations\u001b[0m\u001b[0;34m[\u001b[0m\u001b[0;36m0\u001b[0m\u001b[0;34m]\u001b[0m\u001b[0;34m]\u001b[0m \u001b[0;34m=\u001b[0m             \u001b[0mmeasure_auc\u001b[0m\u001b[0;34m(\u001b[0m\u001b[0mX_val\u001b[0m\u001b[0;34m,\u001b[0m \u001b[0mmodel\u001b[0m\u001b[0;34m,\u001b[0m \u001b[0mNUM_THREADS\u001b[0m\u001b[0;34m)\u001b[0m\u001b[0;34m\u001b[0m\u001b[0m\n",
      "\u001b[0;32m/Users/timothysweetser/git/lightfm/lightfm/lightfm.py\u001b[0m in \u001b[0;36mfit_partial\u001b[0;34m(self, interactions, user_features, item_features, sample_weight, epochs, num_threads, verbose)\u001b[0m\n\u001b[1;32m    576\u001b[0m                             \u001b[0msample_weight_data\u001b[0m\u001b[0;34m,\u001b[0m\u001b[0;34m\u001b[0m\u001b[0m\n\u001b[1;32m    577\u001b[0m                             \u001b[0mnum_threads\u001b[0m\u001b[0;34m,\u001b[0m\u001b[0;34m\u001b[0m\u001b[0m\n\u001b[0;32m--> 578\u001b[0;31m                             self.loss)\n\u001b[0m\u001b[1;32m    579\u001b[0m \u001b[0;34m\u001b[0m\u001b[0m\n\u001b[1;32m    580\u001b[0m             \u001b[0mself\u001b[0m\u001b[0;34m.\u001b[0m\u001b[0m_check_finite\u001b[0m\u001b[0;34m(\u001b[0m\u001b[0;34m)\u001b[0m\u001b[0;34m\u001b[0m\u001b[0m\n",
      "\u001b[0;32m/Users/timothysweetser/git/lightfm/lightfm/lightfm.py\u001b[0m in \u001b[0;36m_run_epoch\u001b[0;34m(self, item_features, user_features, interactions, sample_weight, num_threads, loss)\u001b[0m\n\u001b[1;32m    657\u001b[0m                          \u001b[0mself\u001b[0m\u001b[0;34m.\u001b[0m\u001b[0mitem_alpha\u001b[0m\u001b[0;34m,\u001b[0m\u001b[0;34m\u001b[0m\u001b[0m\n\u001b[1;32m    658\u001b[0m                          \u001b[0mself\u001b[0m\u001b[0;34m.\u001b[0m\u001b[0muser_alpha\u001b[0m\u001b[0;34m,\u001b[0m\u001b[0;34m\u001b[0m\u001b[0m\n\u001b[0;32m--> 659\u001b[0;31m                          num_threads)\n\u001b[0m\u001b[1;32m    660\u001b[0m \u001b[0;34m\u001b[0m\u001b[0m\n\u001b[1;32m    661\u001b[0m     def predict(self, user_ids, item_ids, item_features=None,\n",
      "\u001b[0;31mKeyboardInterrupt\u001b[0m: "
     ]
    }
   ],
   "source": [
    "for a in alphas:\n",
    "    for nc in components:\n",
    "        logging.info('fitting alpha = %f, %d components', a, nc)\n",
    "        these_results = {'alpha': a, 'no_components': nc}\n",
    "        model = LightFM(no_components=nc,\n",
    "                        learning_schedule='adagrad',\n",
    "                        loss='logistic',\n",
    "                        user_alpha=a,\n",
    "                        item_alpha=a)\n",
    "        model.fit_partial(X_train,\n",
    "                         user_features=member_features,\n",
    "                         item_features=song_features,\n",
    "                         epochs=iterations[0],\n",
    "                         verbose=False,\n",
    "                         num_threads=NUM_THREADS)\n",
    "        these_results['train_auc%d' % iterations[0]] = \\\n",
    "            measure_auc(X_train, model, NUM_THREADS)\n",
    "        these_results['val_auc%d' % iterations[0]] = \\\n",
    "            measure_auc(X_val, model, NUM_THREADS)\n",
    "        # fit rest of iterations\n",
    "        logging.info('resuming iterations')\n",
    "        model.fit_partial(X_train,\n",
    "                     user_features=member_features,\n",
    "                     item_features=song_features,\n",
    "                     epochs=iterations[1] - iterations[0],\n",
    "                     verbose=False,\n",
    "                     num_threads=NUM_THREADS)\n",
    "        these_results['train_auc%d' % iterations[1]] = \\\n",
    "            measure_auc(X_train, model, NUM_THREADS)\n",
    "        these_results['val_auc%d' % iterations[1]] = \\\n",
    "            measure_auc(X_val, model, NUM_THREADS)\n",
    "        results.append(these_results)"
   ]
  },
  {
   "cell_type": "markdown",
   "metadata": {},
   "source": [
    "This took 75 minutes single-threaded"
   ]
  },
  {
   "cell_type": "code",
   "execution_count": 43,
   "metadata": {},
   "outputs": [
    {
     "data": {
      "text/html": [
       "<div>\n",
       "<style>\n",
       "    .dataframe thead tr:only-child th {\n",
       "        text-align: right;\n",
       "    }\n",
       "\n",
       "    .dataframe thead th {\n",
       "        text-align: left;\n",
       "    }\n",
       "\n",
       "    .dataframe tbody tr th {\n",
       "        vertical-align: top;\n",
       "    }\n",
       "</style>\n",
       "<table border=\"1\" class=\"dataframe\">\n",
       "  <thead>\n",
       "    <tr style=\"text-align: right;\">\n",
       "      <th></th>\n",
       "      <th>alpha</th>\n",
       "      <th>no_components</th>\n",
       "      <th>variable</th>\n",
       "      <th>auc</th>\n",
       "      <th>iterations</th>\n",
       "      <th>data</th>\n",
       "      <th>regularization</th>\n",
       "    </tr>\n",
       "  </thead>\n",
       "  <tbody>\n",
       "    <tr>\n",
       "      <th>0</th>\n",
       "      <td>0.001372</td>\n",
       "      <td>1</td>\n",
       "      <td>train_auc10</td>\n",
       "      <td>0.776284</td>\n",
       "      <td>10</td>\n",
       "      <td>train</td>\n",
       "      <td>-6.591674</td>\n",
       "    </tr>\n",
       "    <tr>\n",
       "      <th>1</th>\n",
       "      <td>0.001372</td>\n",
       "      <td>5</td>\n",
       "      <td>train_auc10</td>\n",
       "      <td>0.774519</td>\n",
       "      <td>10</td>\n",
       "      <td>train</td>\n",
       "      <td>-6.591674</td>\n",
       "    </tr>\n",
       "    <tr>\n",
       "      <th>2</th>\n",
       "      <td>0.001372</td>\n",
       "      <td>10</td>\n",
       "      <td>train_auc10</td>\n",
       "      <td>0.770851</td>\n",
       "      <td>10</td>\n",
       "      <td>train</td>\n",
       "      <td>-6.591674</td>\n",
       "    </tr>\n",
       "    <tr>\n",
       "      <th>3</th>\n",
       "      <td>0.004115</td>\n",
       "      <td>1</td>\n",
       "      <td>train_auc10</td>\n",
       "      <td>0.758679</td>\n",
       "      <td>10</td>\n",
       "      <td>train</td>\n",
       "      <td>-5.493061</td>\n",
       "    </tr>\n",
       "    <tr>\n",
       "      <th>4</th>\n",
       "      <td>0.004115</td>\n",
       "      <td>5</td>\n",
       "      <td>train_auc10</td>\n",
       "      <td>0.696327</td>\n",
       "      <td>10</td>\n",
       "      <td>train</td>\n",
       "      <td>-5.493061</td>\n",
       "    </tr>\n",
       "  </tbody>\n",
       "</table>\n",
       "</div>"
      ],
      "text/plain": [
       "      alpha  no_components     variable       auc  iterations   data  \\\n",
       "0  0.001372              1  train_auc10  0.776284          10  train   \n",
       "1  0.001372              5  train_auc10  0.774519          10  train   \n",
       "2  0.001372             10  train_auc10  0.770851          10  train   \n",
       "3  0.004115              1  train_auc10  0.758679          10  train   \n",
       "4  0.004115              5  train_auc10  0.696327          10  train   \n",
       "\n",
       "   regularization  \n",
       "0       -6.591674  \n",
       "1       -6.591674  \n",
       "2       -6.591674  \n",
       "3       -5.493061  \n",
       "4       -5.493061  "
      ]
     },
     "execution_count": 43,
     "metadata": {},
     "output_type": "execute_result"
    }
   ],
   "source": [
    "df_results = pd.melt(pd.DataFrame(results), ['alpha', 'no_components'], value_name='auc')\n",
    "df_results['iterations'] = df_results['variable'].apply(lambda s: s.split('auc')[-1]).astype(int)\n",
    "df_results['data'] = df_results['variable'].apply(lambda s: s.split('_')[0])\n",
    "df_results['regularization'] = df_results['alpha'].apply(np.log)\n",
    "df_results.head()"
   ]
  },
  {
   "cell_type": "code",
   "execution_count": 49,
   "metadata": {},
   "outputs": [
    {
     "data": {
      "image/png": "[encoded data removed]",
      "text/plain": [
       "<matplotlib.figure.Figure at 0x115586940>"
      ]
     },
     "metadata": {
      "image/png": {
       "height": 433,
       "width": 660
      }
     },
     "output_type": "display_data"
    },
    {
     "data": {
      "text/plain": [
       "<ggplot: (-9223372036575284045)>"
      ]
     },
     "execution_count": 49,
     "metadata": {},
     "output_type": "execute_result"
    }
   ],
   "source": [
    "g = (ggplot(df_results.query('iterations > 8'),\n",
    "        aes('no_components', 'regularization',\n",
    "                        group='regularization', color='data', size='auc')) +\n",
    "geom_point() + ylab('alpha, log scale'))\n",
    "g"
   ]
  },
  {
   "cell_type": "code",
   "execution_count": 50,
   "metadata": {},
   "outputs": [
    {
     "name": "stderr",
     "output_type": "stream",
     "text": [
      "/Users/timothysweetser/python/virtualenv/work3/lib/python3.6/site-packages/plotnine/ggplot.py:551: UserWarning: Saving 6.4 x 4.8 in image.\n",
      "  from_inches(h, units), units))\n"
     ]
    }
   ],
   "source": [
    "g.save('figures/lightfm_hyperparameters.png')"
   ]
  },
  {
   "cell_type": "code",
   "execution_count": 24,
   "metadata": {},
   "outputs": [
    {
     "data": {
      "text/html": [
       "<div>\n",
       "<style>\n",
       "    .dataframe thead tr:only-child th {\n",
       "        text-align: right;\n",
       "    }\n",
       "\n",
       "    .dataframe thead th {\n",
       "        text-align: left;\n",
       "    }\n",
       "\n",
       "    .dataframe tbody tr th {\n",
       "        vertical-align: top;\n",
       "    }\n",
       "</style>\n",
       "<table border=\"1\" class=\"dataframe\">\n",
       "  <thead>\n",
       "    <tr style=\"text-align: right;\">\n",
       "      <th></th>\n",
       "      <th>alpha</th>\n",
       "      <th>no_components</th>\n",
       "      <th>variable</th>\n",
       "      <th>auc</th>\n",
       "      <th>iterations</th>\n",
       "      <th>data</th>\n",
       "    </tr>\n",
       "  </thead>\n",
       "  <tbody>\n",
       "    <tr>\n",
       "      <th>32</th>\n",
       "      <td>0.001372</td>\n",
       "      <td>10</td>\n",
       "      <td>val_auc10</td>\n",
       "      <td>0.633496</td>\n",
       "      <td>10</td>\n",
       "      <td>val</td>\n",
       "    </tr>\n",
       "    <tr>\n",
       "      <th>47</th>\n",
       "      <td>0.001372</td>\n",
       "      <td>10</td>\n",
       "      <td>val_auc5</td>\n",
       "      <td>0.633004</td>\n",
       "      <td>5</td>\n",
       "      <td>val</td>\n",
       "    </tr>\n",
       "    <tr>\n",
       "      <th>31</th>\n",
       "      <td>0.001372</td>\n",
       "      <td>5</td>\n",
       "      <td>val_auc10</td>\n",
       "      <td>0.632998</td>\n",
       "      <td>10</td>\n",
       "      <td>val</td>\n",
       "    </tr>\n",
       "  </tbody>\n",
       "</table>\n",
       "</div>"
      ],
      "text/plain": [
       "       alpha  no_components   variable       auc iterations data\n",
       "32  0.001372             10  val_auc10  0.633496         10  val\n",
       "47  0.001372             10   val_auc5  0.633004          5  val\n",
       "31  0.001372              5  val_auc10  0.632998         10  val"
      ]
     },
     "execution_count": 24,
     "metadata": {},
     "output_type": "execute_result"
    }
   ],
   "source": [
    "df_results[df_results.data == 'val'].sort_values('auc', ascending=False).head(3)"
   ]
  },
  {
   "cell_type": "code",
   "execution_count": null,
   "metadata": {
    "collapsed": true
   },
   "outputs": [],
   "source": []
  }
 ],
 "metadata": {
  "kernelspec": {
   "display_name": "Python 3",
   "language": "python",
   "name": "python3"
  },
  "language_info": {
   "codemirror_mode": {
    "name": "ipython",
    "version": 3
   },
   "file_extension": ".py",
   "mimetype": "text/x-python",
   "name": "python",
   "nbconvert_exporter": "python",
   "pygments_lexer": "ipython3",
   "version": "3.6.1"
  }
 },
 "nbformat": 4,
 "nbformat_minor": 2
}
