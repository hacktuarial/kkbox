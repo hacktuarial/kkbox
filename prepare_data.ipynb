{
 "cells": [
  {
   "cell_type": "code",
   "execution_count": 1,
   "metadata": {},
   "outputs": [],
   "source": [
    "import pandas as pd\n",
    "from scipy import sparse\n",
    "from scipy.io import mmwrite\n",
    "import numpy as np\n",
    "from collections import Counter\n",
    "from sklearn.feature_extraction import DictVectorizer\n",
    "from sklearn.preprocessing import OneHotEncoder\n",
    "\n",
    "import json\n",
    "import pickle\n",
    "import math"
   ]
  },
  {
   "cell_type": "code",
   "execution_count": 2,
   "metadata": {},
   "outputs": [],
   "source": [
    "df_members = pd.read_csv('data/raw/members.csv')\n",
    "df_songs = pd.read_csv('data/raw/songs.csv')\n",
    "df_train = pd.read_csv('data/raw/train.csv')\n",
    "df_test = pd.read_csv('data/raw/test.csv')                  "
   ]
  },
  {
   "cell_type": "code",
   "execution_count": 3,
   "metadata": {
    "collapsed": true
   },
   "outputs": [],
   "source": [
    "def squish_and_discretize(x, low, high, increment, default):\n",
    "    if math.isnan(x):\n",
    "        return default\n",
    "    x = np.clip(x, low, high)\n",
    "    return str(int(x / increment))\n",
    "\n",
    "def id_to_index(ids):\n",
    "    \" return a dict like {id: idx} \"\n",
    "    unique_ids = set(ids)\n",
    "    return dict(zip(unique_ids, np.arange(0, len(unique_ids))))\n",
    "\n",
    "def rescale_y(y):\n",
    "    \" 0/1 to -1/1 scale \"\n",
    "    return 2 * y - 1"
   ]
  },
  {
   "cell_type": "markdown",
   "metadata": {},
   "source": [
    "# 0. Extreme sparsity"
   ]
  },
  {
   "cell_type": "code",
   "execution_count": 4,
   "metadata": {},
   "outputs": [
    {
     "data": {
      "text/plain": [
       "9.338468694282741e-05"
      ]
     },
     "execution_count": 4,
     "metadata": {},
     "output_type": "execute_result"
    }
   ],
   "source": [
    "len(df_train) / (df_members['msno'].nunique() * df_songs['song_id'].nunique())"
   ]
  },
  {
   "cell_type": "markdown",
   "metadata": {},
   "source": [
    "# 1. [Members](https://www.kaggle.com/c/kkbox-music-recommendation-challenge/data)\n",
    "members.csv\n",
    "\n",
    "user information.\n",
    "\n",
    "* msno\n",
    "* city\n",
    "* bd: age. Note: this column has outlier values, please use your judgement.\n",
    "* gender\n",
    "* registered_via: registration method\n",
    "* registration_init_time: format %Y%m%d\n",
    "* expiration_date: format %Y%m%d"
   ]
  },
  {
   "cell_type": "code",
   "execution_count": 5,
   "metadata": {},
   "outputs": [
    {
     "data": {
      "text/plain": [
       "Counter({1: 19445,\n",
       "         3: 204,\n",
       "         4: 1732,\n",
       "         5: 2634,\n",
       "         6: 913,\n",
       "         7: 93,\n",
       "         8: 289,\n",
       "         9: 309,\n",
       "         10: 216,\n",
       "         11: 285,\n",
       "         12: 491,\n",
       "         13: 3395,\n",
       "         14: 708,\n",
       "         15: 1525,\n",
       "         16: 35,\n",
       "         17: 152,\n",
       "         18: 259,\n",
       "         19: 11,\n",
       "         20: 27,\n",
       "         21: 213,\n",
       "         22: 1467})"
      ]
     },
     "execution_count": 5,
     "metadata": {},
     "output_type": "execute_result"
    }
   ],
   "source": [
    "Counter(df_members['city'])"
   ]
  },
  {
   "cell_type": "code",
   "execution_count": 6,
   "metadata": {},
   "outputs": [
    {
     "data": {
      "text/plain": [
       "Counter({'10': 272,\n",
       "         '11': 116,\n",
       "         '12': 126,\n",
       "         '3': 21672,\n",
       "         '4': 3519,\n",
       "         '5': 3534,\n",
       "         '6': 2379,\n",
       "         '7': 1541,\n",
       "         '8': 788,\n",
       "         '9': 456})"
      ]
     },
     "execution_count": 6,
     "metadata": {},
     "output_type": "execute_result"
    }
   ],
   "source": [
    "Counter(df_members['bd'])\n",
    "# lots of crazy values\n",
    "np.median(df_members.query('bd > 15 and bd < 60')['bd'])\n",
    "df_members['bd_clean'] = df_members['bd'].apply(lambda x: squish_and_discretize(x, 15, 60, 5, 27))\n",
    "Counter(df_members['bd_clean'])"
   ]
  },
  {
   "cell_type": "code",
   "execution_count": 7,
   "metadata": {},
   "outputs": [
    {
     "name": "stdout",
     "output_type": "stream",
     "text": [
      "Counter({nan: 19902, 'male': 7405, 'female': 7096})\n",
      "Counter({'unknown': 19902, 'male': 7405, 'female': 7096})\n"
     ]
    }
   ],
   "source": [
    "print(Counter(df_members['gender']))\n",
    "df_members.fillna('unknown', inplace=True)\n",
    "print(Counter(df_members['gender']))"
   ]
  },
  {
   "cell_type": "code",
   "execution_count": 8,
   "metadata": {},
   "outputs": [
    {
     "data": {
      "text/plain": [
       "Counter({3: 4879, 4: 11392, 7: 9433, 9: 8628, 13: 70, 16: 1})"
      ]
     },
     "execution_count": 8,
     "metadata": {},
     "output_type": "execute_result"
    }
   ],
   "source": [
    "Counter(df_members['registered_via'])"
   ]
  },
  {
   "cell_type": "markdown",
   "metadata": {},
   "source": [
    "### ignore signup/expiration for now"
   ]
  },
  {
   "cell_type": "code",
   "execution_count": 9,
   "metadata": {
    "collapsed": true
   },
   "outputs": [],
   "source": [
    "x_members = ['city', 'bd', 'gender', 'registered_via']\n",
    "for x in x_members:\n",
    "    df_members[x] = df_members[x].astype(str)"
   ]
  },
  {
   "cell_type": "markdown",
   "metadata": {},
   "source": [
    "Are all members in the test set included in this dataset?"
   ]
  },
  {
   "cell_type": "code",
   "execution_count": 10,
   "metadata": {},
   "outputs": [
    {
     "data": {
      "text/plain": [
       "True"
      ]
     },
     "execution_count": 10,
     "metadata": {},
     "output_type": "execute_result"
    }
   ],
   "source": [
    "df_test['msno'].isin(df_members.msno).all()"
   ]
  },
  {
   "cell_type": "code",
   "execution_count": 11,
   "metadata": {
    "collapsed": true
   },
   "outputs": [],
   "source": [
    "member_map = id_to_index(df_members['msno'])"
   ]
  },
  {
   "cell_type": "code",
   "execution_count": 12,
   "metadata": {},
   "outputs": [],
   "source": [
    "member_features = df_members[x_members + ['msno']].\\\n",
    "drop_duplicates()\n",
    "member_features['member_idx'] = member_features['msno'].apply(lambda x: member_map[x])\n",
    "member_features.sort_values('member_idx', inplace=True)\n",
    "member_features['member_idx'] = member_features['member_idx'].astype(str)\n",
    "assert len(member_features) == len(df_members)\n",
    "\n",
    "member_X = DictVectorizer().fit_transform(member_features.T.to_dict().values())\n",
    "mmwrite('data/processed/member_X', member_X)"
   ]
  },
  {
   "cell_type": "markdown",
   "metadata": {},
   "source": [
    "# 2. Songs\n",
    "The songs. Note that data is in unicode.\n",
    "\n",
    "* song_id\n",
    "* song_length: in ms\n",
    "* genre_ids: genre category. Some songs have multiple genres and they are separated by |\n",
    "* artist_name\n",
    "* composer\n",
    "* lyricist\n",
    "* language"
   ]
  },
  {
   "cell_type": "code",
   "execution_count": 13,
   "metadata": {
    "collapsed": true
   },
   "outputs": [],
   "source": [
    "song_map = id_to_index(df_songs['song_id'])\n",
    "df_songs['song_idx'] = df_songs['song_id'].apply(lambda x: song_map[x])"
   ]
  },
  {
   "cell_type": "code",
   "execution_count": 14,
   "metadata": {},
   "outputs": [
    {
     "name": "stdout",
     "output_type": "stream",
     "text": [
      "0 nulls\n"
     ]
    },
    {
     "data": {
      "text/plain": [
       "count    2.296320e+06\n",
       "mean     4.116558e+00\n",
       "std      2.682000e+00\n",
       "min      3.083333e-03\n",
       "25%      3.060000e+00\n",
       "50%      3.777117e+00\n",
       "75%      4.621150e+00\n",
       "max      2.028975e+02\n",
       "Name: song_length, dtype: float64"
      ]
     },
     "execution_count": 14,
     "metadata": {},
     "output_type": "execute_result"
    }
   ],
   "source": [
    "# song length in minutes\n",
    "print(\"%d nulls\" % df_songs['song_length'].isnull().sum())\n",
    "df_songs['song_length'].apply(lambda x: x/60 * 1e-3).describe()"
   ]
  },
  {
   "cell_type": "code",
   "execution_count": 15,
   "metadata": {},
   "outputs": [
    {
     "data": {
      "text/plain": [
       "Counter({'10': 124486,\n",
       "         '11': 77677,\n",
       "         '12': 54174,\n",
       "         '13': 40265,\n",
       "         '14': 29454,\n",
       "         '15': 20350,\n",
       "         '16': 77200,\n",
       "         '2': 80670,\n",
       "         '3': 72554,\n",
       "         '4': 145783,\n",
       "         '5': 236508,\n",
       "         '6': 373462,\n",
       "         '7': 422276,\n",
       "         '8': 329447,\n",
       "         '9': 212014})"
      ]
     },
     "execution_count": 15,
     "metadata": {},
     "output_type": "execute_result"
    }
   ],
   "source": [
    "df_songs['song_length_c'] = df_songs['song_length'].apply(lambda x: squish_and_discretize(x/60000, 1, 8, increment=0.5, default=4))\n",
    "Counter(df_songs['song_length_c'])"
   ]
  },
  {
   "cell_type": "code",
   "execution_count": 16,
   "metadata": {},
   "outputs": [
    {
     "data": {
      "text/plain": [
       "artist_name    0.000000e+00\n",
       "composer       4.665500e-01\n",
       "lyricist       8.471132e-01\n",
       "language       4.354794e-07\n",
       "dtype: float64"
      ]
     },
     "execution_count": 16,
     "metadata": {},
     "output_type": "execute_result"
    }
   ],
   "source": [
    "df_songs[['artist_name', 'composer', 'lyricist', 'language']].isnull().mean()"
   ]
  },
  {
   "cell_type": "markdown",
   "metadata": {},
   "source": [
    "Use artist name, skip composer and lyricist"
   ]
  },
  {
   "cell_type": "code",
   "execution_count": 17,
   "metadata": {},
   "outputs": [
    {
     "name": "stdout",
     "output_type": "stream",
     "text": [
      "Counter({52.0: 1336694, -1.0: 639467, 3.0: 106295, 17.0: 92518, 24.0: 41744, 31.0: 39201, 10.0: 15482, 45.0: 14435, 59.0: 8098, 38.0: 2385, nan: 1})\n",
      "Counter({'52': 1336695, '-1': 639467, '3': 106295, '17': 92518, '24': 41744, '31': 39201, '10': 15482, '45': 14435, '59': 8098, '38': 2385})\n"
     ]
    }
   ],
   "source": [
    "print(Counter(df_songs['language']))\n",
    "df_songs['language_c'] = df_songs['language'].fillna(52).astype(int).astype(str)\n",
    "print(Counter(df_songs['language_c']))"
   ]
  },
  {
   "cell_type": "markdown",
   "metadata": {},
   "source": [
    "### genres\n",
    "there are 200 of them, and they are formatted in an annoying way"
   ]
  },
  {
   "cell_type": "code",
   "execution_count": 18,
   "metadata": {},
   "outputs": [
    {
     "data": {
      "text/html": [
       "<div>\n",
       "<style>\n",
       "    .dataframe thead tr:only-child th {\n",
       "        text-align: right;\n",
       "    }\n",
       "\n",
       "    .dataframe thead th {\n",
       "        text-align: left;\n",
       "    }\n",
       "\n",
       "    .dataframe tbody tr th {\n",
       "        vertical-align: top;\n",
       "    }\n",
       "</style>\n",
       "<table border=\"1\" class=\"dataframe\">\n",
       "  <thead>\n",
       "    <tr style=\"text-align: right;\">\n",
       "      <th></th>\n",
       "      <th>song_idx</th>\n",
       "      <th>genre_ids</th>\n",
       "    </tr>\n",
       "  </thead>\n",
       "  <tbody>\n",
       "    <tr>\n",
       "      <th>1114387</th>\n",
       "      <td>983847</td>\n",
       "      <td>2122</td>\n",
       "    </tr>\n",
       "    <tr>\n",
       "      <th>255412</th>\n",
       "      <td>2248864</td>\n",
       "      <td>1259</td>\n",
       "    </tr>\n",
       "    <tr>\n",
       "      <th>1229332</th>\n",
       "      <td>1858820</td>\n",
       "      <td>958</td>\n",
       "    </tr>\n",
       "    <tr>\n",
       "      <th>634198</th>\n",
       "      <td>1215</td>\n",
       "      <td>388|940</td>\n",
       "    </tr>\n",
       "    <tr>\n",
       "      <th>1742163</th>\n",
       "      <td>1428712</td>\n",
       "      <td>465</td>\n",
       "    </tr>\n",
       "    <tr>\n",
       "      <th>2183653</th>\n",
       "      <td>876323</td>\n",
       "      <td>465</td>\n",
       "    </tr>\n",
       "    <tr>\n",
       "      <th>60936</th>\n",
       "      <td>1609905</td>\n",
       "      <td>958</td>\n",
       "    </tr>\n",
       "    <tr>\n",
       "      <th>1093382</th>\n",
       "      <td>136664</td>\n",
       "      <td>958</td>\n",
       "    </tr>\n",
       "    <tr>\n",
       "      <th>780539</th>\n",
       "      <td>965554</td>\n",
       "      <td>947</td>\n",
       "    </tr>\n",
       "    <tr>\n",
       "      <th>2207874</th>\n",
       "      <td>1148536</td>\n",
       "      <td>958</td>\n",
       "    </tr>\n",
       "  </tbody>\n",
       "</table>\n",
       "</div>"
      ],
      "text/plain": [
       "         song_idx genre_ids\n",
       "1114387    983847      2122\n",
       "255412    2248864      1259\n",
       "1229332   1858820       958\n",
       "634198       1215   388|940\n",
       "1742163   1428712       465\n",
       "2183653    876323       465\n",
       "60936     1609905       958\n",
       "1093382    136664       958\n",
       "780539     965554       947\n",
       "2207874   1148536       958"
      ]
     },
     "execution_count": 18,
     "metadata": {},
     "output_type": "execute_result"
    }
   ],
   "source": [
    "df_songs[['song_idx', 'genre_ids']].sample(n=10)"
   ]
  },
  {
   "cell_type": "code",
   "execution_count": 19,
   "metadata": {},
   "outputs": [
    {
     "name": "stdout",
     "output_type": "stream",
     "text": [
      "CPU times: user 7min 23s, sys: 23.8 s, total: 7min 47s\n",
      "Wall time: 7min 50s\n"
     ]
    }
   ],
   "source": [
    "%%time\n",
    "df_genres = df_songs['genre_ids'].apply(lambda s: pd.Series(str(s).split('|')))"
   ]
  },
  {
   "cell_type": "code",
   "execution_count": 20,
   "metadata": {
    "collapsed": true
   },
   "outputs": [],
   "source": [
    "df_genres['song_idx'] = df_songs['song_idx']"
   ]
  },
  {
   "cell_type": "code",
   "execution_count": 21,
   "metadata": {},
   "outputs": [
    {
     "data": {
      "text/html": [
       "<div>\n",
       "<style>\n",
       "    .dataframe thead tr:only-child th {\n",
       "        text-align: right;\n",
       "    }\n",
       "\n",
       "    .dataframe thead th {\n",
       "        text-align: left;\n",
       "    }\n",
       "\n",
       "    .dataframe tbody tr th {\n",
       "        vertical-align: top;\n",
       "    }\n",
       "</style>\n",
       "<table border=\"1\" class=\"dataframe\">\n",
       "  <thead>\n",
       "    <tr style=\"text-align: right;\">\n",
       "      <th></th>\n",
       "      <th>song_idx</th>\n",
       "      <th>genre</th>\n",
       "    </tr>\n",
       "  </thead>\n",
       "  <tbody>\n",
       "    <tr>\n",
       "      <th>697615</th>\n",
       "      <td>830506</td>\n",
       "      <td>921</td>\n",
       "    </tr>\n",
       "  </tbody>\n",
       "</table>\n",
       "</div>"
      ],
      "text/plain": [
       "        song_idx genre\n",
       "697615    830506   921"
      ]
     },
     "execution_count": 21,
     "metadata": {},
     "output_type": "execute_result"
    }
   ],
   "source": [
    "df_genres2 = pd.melt(df_genres, 'song_idx', value_name='genre').\\\n",
    "drop('variable', axis=1).\\\n",
    "dropna().\\\n",
    "sort_values('song_idx')\n",
    "df_genres2.query('song_idx == 830506')"
   ]
  },
  {
   "cell_type": "code",
   "execution_count": 22,
   "metadata": {},
   "outputs": [],
   "source": [
    "genre_map = id_to_index(df_genres2.genre)\n",
    "df_genres2['genre_idx'] = df_genres2['genre'].apply(lambda g: genre_map[g])"
   ]
  },
  {
   "cell_type": "code",
   "execution_count": 23,
   "metadata": {},
   "outputs": [
    {
     "data": {
      "text/plain": [
       "(2296320, 192)"
      ]
     },
     "execution_count": 23,
     "metadata": {},
     "output_type": "execute_result"
    }
   ],
   "source": [
    "X_genres = sparse.coo_matrix((np.ones(len(df_genres2)),\n",
    "                              (df_genres2['song_idx'], df_genres2['genre_idx'])))\n",
    "assert X_genres.shape[0] == df_songs.song_id.nunique()\n",
    "X_genres.shape"
   ]
  },
  {
   "cell_type": "code",
   "execution_count": 24,
   "metadata": {
    "collapsed": true
   },
   "outputs": [],
   "source": [
    "x_songs = ['song_length_c', 'artist_name', 'language_c']\n",
    "for x in x_songs:\n",
    "    df_songs[x] = df_songs[x].astype(str)"
   ]
  },
  {
   "cell_type": "code",
   "execution_count": 25,
   "metadata": {},
   "outputs": [
    {
     "name": "stdout",
     "output_type": "stream",
     "text": [
      "CPU times: user 10.4 s, sys: 680 ms, total: 11.1 s\n",
      "Wall time: 11.4 s\n"
     ]
    }
   ],
   "source": [
    "%%time\n",
    "song_features = df_songs[x_songs + ['song_id']].\\\n",
    "drop_duplicates()\n",
    "song_features['song_idx'] = song_features['song_id'].apply(lambda x: song_map[x])\n",
    "song_features.sort_values('song_idx', inplace=True)\n",
    "song_features['song_idx'] = song_features['song_idx'].astype(str)\n",
    "assert len(song_features) == len(df_songs)\n",
    "\n"
   ]
  },
  {
   "cell_type": "code",
   "execution_count": 26,
   "metadata": {},
   "outputs": [
    {
     "name": "stdout",
     "output_type": "stream",
     "text": [
      "CPU times: user 3min 31s, sys: 9.31 s, total: 3min 40s\n",
      "Wall time: 3min 40s\n"
     ]
    }
   ],
   "source": [
    "%%time\n",
    "song_X = DictVectorizer().fit_transform(song_features.T.to_dict().values())"
   ]
  },
  {
   "cell_type": "code",
   "execution_count": 27,
   "metadata": {},
   "outputs": [
    {
     "data": {
      "text/plain": [
       "(2296320, 4815028)"
      ]
     },
     "execution_count": 27,
     "metadata": {},
     "output_type": "execute_result"
    }
   ],
   "source": [
    "song_X.shape"
   ]
  },
  {
   "cell_type": "code",
   "execution_count": 28,
   "metadata": {},
   "outputs": [
    {
     "data": {
      "text/plain": [
       "(2296320, 192)"
      ]
     },
     "execution_count": 28,
     "metadata": {},
     "output_type": "execute_result"
    }
   ],
   "source": [
    "X_genres.shape"
   ]
  },
  {
   "cell_type": "code",
   "execution_count": 29,
   "metadata": {},
   "outputs": [
    {
     "data": {
      "text/plain": [
       "(2296320, 4815220)"
      ]
     },
     "execution_count": 29,
     "metadata": {},
     "output_type": "execute_result"
    }
   ],
   "source": [
    "sparse.hstack([song_X, X_genres]).shape"
   ]
  },
  {
   "cell_type": "code",
   "execution_count": 30,
   "metadata": {
    "collapsed": true
   },
   "outputs": [],
   "source": [
    "mmwrite('data/processed/song_X', sparse.hstack([song_X, X_genres]))"
   ]
  },
  {
   "cell_type": "code",
   "execution_count": 31,
   "metadata": {},
   "outputs": [],
   "source": [
    "# write maps to disk\n",
    "pickle.dump(genre_map, open('data/processed/genre_map.p', \"wb\" ))\n",
    "pickle.dump(song_map, open('data/processed/song_map.p', \"wb\" ))\n",
    "pickle.dump(member_map, open('data/processed/member_map.p', \"wb\"))"
   ]
  },
  {
   "cell_type": "markdown",
   "metadata": {},
   "source": [
    "Are all the songs in the train and test sets present in df_song?"
   ]
  },
  {
   "cell_type": "code",
   "execution_count": 32,
   "metadata": {},
   "outputs": [
    {
     "data": {
      "text/plain": [
       "0.99998454743922605"
      ]
     },
     "execution_count": 32,
     "metadata": {},
     "output_type": "execute_result"
    }
   ],
   "source": [
    "df_train['song_id'].isin(df_songs['song_id']).mean()"
   ]
  },
  {
   "cell_type": "code",
   "execution_count": 33,
   "metadata": {},
   "outputs": [
    {
     "data": {
      "text/plain": [
       "0.99999022211444821"
      ]
     },
     "execution_count": 33,
     "metadata": {},
     "output_type": "execute_result"
    }
   ],
   "source": [
    "df_test['song_id'].isin(df_songs['song_id']).mean()"
   ]
  },
  {
   "cell_type": "code",
   "execution_count": 34,
   "metadata": {
    "collapsed": true
   },
   "outputs": [],
   "source": [
    "# for training, exclude unknown songs\n",
    "df_train = df_train[df_train['song_id'].isin(df_songs['song_id'])]"
   ]
  },
  {
   "cell_type": "markdown",
   "metadata": {},
   "source": [
    "# TODO\n",
    "add these song ids later on"
   ]
  },
  {
   "cell_type": "code",
   "execution_count": 35,
   "metadata": {
    "collapsed": true
   },
   "outputs": [],
   "source": [
    "# for training, exclude unknown songs\n",
    "df_test = df_test[df_test['song_id'].isin(df_songs['song_id'])]"
   ]
  },
  {
   "cell_type": "markdown",
   "metadata": {},
   "source": [
    "# 3. train, test data\n",
    "ignore source data for now\n",
    "# TODO: \n",
    "create validation set from training"
   ]
  },
  {
   "cell_type": "code",
   "execution_count": 36,
   "metadata": {},
   "outputs": [
    {
     "data": {
      "text/plain": [
       "Counter({0: 3662694, 1: 3714610})"
      ]
     },
     "execution_count": 36,
     "metadata": {},
     "output_type": "execute_result"
    }
   ],
   "source": [
    "Counter(df_train.target)"
   ]
  },
  {
   "cell_type": "code",
   "execution_count": 37,
   "metadata": {},
   "outputs": [
    {
     "data": {
      "text/plain": [
       "0.3465717286423333"
      ]
     },
     "execution_count": 37,
     "metadata": {},
     "output_type": "execute_result"
    }
   ],
   "source": [
    "len(df_test) / len(df_train)"
   ]
  },
  {
   "cell_type": "code",
   "execution_count": 38,
   "metadata": {},
   "outputs": [],
   "source": [
    "train_val_split = int(round(2/3 * len(df_train)))\n",
    "starting_rows = len(df_train)\n",
    "df_val = df_train.loc[train_val_split:, :]\n",
    "df_train = df_train.loc[:train_val_split, :]"
   ]
  },
  {
   "cell_type": "code",
   "execution_count": 39,
   "metadata": {},
   "outputs": [
    {
     "data": {
      "text/plain": [
       "(7377305, 7377304)"
      ]
     },
     "execution_count": 39,
     "metadata": {},
     "output_type": "execute_result"
    }
   ],
   "source": [
    "len(df_train) + len(df_val), starting_rows"
   ]
  },
  {
   "cell_type": "code",
   "execution_count": 40,
   "metadata": {},
   "outputs": [],
   "source": [
    "df_train['member_idx'] = df_train['msno'].apply(lambda x: member_map[x]).astype(str)\n",
    "df_val['member_idx'] = df_val['msno'].apply(lambda x: member_map[x]).astype(str)\n",
    "df_test['member_idx'] = df_test['msno'].apply(lambda x: member_map[x]).astype(str)\n",
    "df_train['song_idx'] = df_train['song_id'].apply(lambda x: song_map[x]).astype(str)\n",
    "df_val['song_idx'] = df_val['song_id'].apply(lambda x: song_map[x]).astype(str)\n",
    "df_test['song_idx'] = df_test['song_id'].apply(lambda x: song_map[x]).astype(str)"
   ]
  },
  {
   "cell_type": "code",
   "execution_count": 41,
   "metadata": {},
   "outputs": [],
   "source": [
    "dims = (len(df_members), len(df_songs))\n",
    "X_train = sparse.coo_matrix((df_train['target'].apply(rescale_y),\n",
    "                             (df_train['member_idx'], df_train['song_idx'])),\n",
    "                            shape=dims)\n",
    "X_val = sparse.coo_matrix((df_val['target'].apply(rescale_y),\n",
    "                            (df_val['member_idx'], df_val['song_idx'])),\n",
    "                           shape=dims)\n",
    "mmwrite('data/processed/X_train', X_train)\n",
    "mmwrite('data/processed/X_validation', X_val)"
   ]
  },
  {
   "cell_type": "code",
   "execution_count": null,
   "metadata": {
    "collapsed": true
   },
   "outputs": [],
   "source": []
  }
 ],
 "metadata": {
  "kernelspec": {
   "display_name": "Python 3",
   "language": "python",
   "name": "python3"
  },
  "language_info": {
   "codemirror_mode": {
    "name": "ipython",
    "version": 3
   },
   "file_extension": ".py",
   "mimetype": "text/x-python",
   "name": "python",
   "nbconvert_exporter": "python",
   "pygments_lexer": "ipython3",
   "version": "3.6.1"
  }
 },
 "nbformat": 4,
 "nbformat_minor": 2
}
